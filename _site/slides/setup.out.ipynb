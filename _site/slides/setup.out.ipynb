{
  "cells": [
    {
      "cell_type": "markdown",
      "metadata": {},
      "source": [
        "# \n",
        "\n",
        "<figure>\n",
        "<a\n",
        "href=\"https://githubtocolab.com/allegheny-college-cmpsc-105-spring-2025/main/blob/slides/setup.ipynb\"><img\n",
        "src=\"https://colab.research.google.com/assets/colab-badge.svg\"\n",
        "alt=\"Open In Colab\" /></a>\n",
        "<figcaption>Open In Colab</figcaption>\n",
        "</figure>\n",
        "\n",
        "This is a test notebook file"
      ],
      "id": "061fb8cc-3e75-4c6f-92b4-ca9cd29fa3ae"
    },
    {
      "cell_type": "code",
      "execution_count": 3,
      "metadata": {
        "vscode": {
          "languageId": "plaintext"
        }
      },
      "outputs": [
        {
          "output_type": "stream",
          "name": "stdout",
          "text": [
            "hello"
          ]
        }
      ],
      "source": [
        "print(\"hello\")"
      ],
      "id": "print-hello"
    },
    {
      "cell_type": "code",
      "execution_count": 4,
      "metadata": {
        "vscode": {
          "languageId": "plaintext"
        }
      },
      "outputs": [
        {
          "output_type": "stream",
          "name": "stdout",
          "text": [
            "this is another print message"
          ]
        }
      ],
      "source": [
        "print(\"this is another print message\")"
      ],
      "id": "cell-6"
    }
  ],
  "nbformat": 4,
  "nbformat_minor": 5,
  "metadata": {
    "kernelspec": {
      "name": "python3",
      "display_name": "Python 3 (ipykernel)",
      "language": "python"
    },
    "language_info": {
      "name": "python",
      "codemirror_mode": {
        "name": "ipython",
        "version": "3"
      },
      "file_extension": ".py",
      "mimetype": "text/x-python",
      "nbconvert_exporter": "python",
      "pygments_lexer": "ipython3",
      "version": "3.11.7"
    }
  }
}