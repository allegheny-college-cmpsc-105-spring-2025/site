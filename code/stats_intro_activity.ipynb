{
  "cells": [
    {
      "cell_type": "raw",
      "metadata": {
        "id": "RtyQekfm65B4"
      },
      "source": [
        "---\n",
        "format:\n",
        "  html:\n",
        "    code-fold: true\n",
        "jupyter: python3\n",
        "---"
      ]
    },
    {
      "cell_type": "markdown",
      "metadata": {
        "id": "I1D7859rdjaT"
      },
      "source": [
        "[![Open In Colab](https://colab.research.google.com/assets/colab-badge.svg)](https://githubtocolab.com/allegheny-college-cmpsc-105-spring-2025/site/blob/main/code/stats_intro_activity.ipynb)"
      ]
    },
    {
      "cell_type": "markdown",
      "metadata": {
        "id": "qlPrbOoJoXVt"
      },
      "source": [
        "# Statistics"
      ]
    },
    {
      "cell_type": "code",
      "execution_count": null,
      "metadata": {
        "id": "f6BtTYQfbtGs"
      },
      "outputs": [],
      "source": [
        "# import pd, np, and matplotlib libraries"
      ]
    },
    {
      "cell_type": "code",
      "execution_count": null,
      "metadata": {
        "id": "KP13FXkha0ei"
      },
      "outputs": [],
      "source": [
        "# read in temperature normals dataset\n",
        "# find raw url from course site repo (https://github.com/allegheny-college-cmpsc-105-spring-2025/site)\n",
        "\n",
        "df = pd.read_csv(\n",
        "    '',\n",
        "    sep=',',\n",
        "    skiprows=0\n",
        ")"
      ]
    },
    {
      "cell_type": "markdown",
      "metadata": {},
      "source": [
        "- TODO: In the variable explorer (`{x}`), what Shape does the variable `df` have? Write your response here:"
      ]
    },
    {
      "cell_type": "code",
      "execution_count": null,
      "metadata": {
        "id": "sO0tokeFb08h"
      },
      "outputs": [],
      "source": [
        "# TODO: display column names\n",
        "\n",
        "# TODO: Check the number of rows and columns, i.e. shape\n",
        "\n",
        "# TODO: Get Rid of uneccessary information\n",
        "# df.drop(columns=['Bad_Col1','Bad_Col2', 'etc'])\n",
        "\n",
        "# TODO: rename individual columns for convenience\n",
        "# df = df.rename(columns={'A': 'X', 'B': 'Y', 'C': 'Z'})\n",
        "\n",
        "# TODO: Check the number of rows and columns, i.e. shape again"
      ]
    },
    {
      "cell_type": "code",
      "execution_count": null,
      "metadata": {
        "id": "u9dFf6XWoZSK"
      },
      "outputs": [],
      "source": [
        "# mean\n",
        "# https://pandas.pydata.org/docs/reference/api/pandas.DataFrame.mean.html\n",
        "# df.mean(axis=1)"
      ]
    },
    {
      "cell_type": "code",
      "execution_count": null,
      "metadata": {
        "id": "L3bwi-EuoaiY"
      },
      "outputs": [],
      "source": [
        "# standard deviation\n",
        "# https://pandas.pydata.org/docs/reference/api/pandas.DataFrame.std.html\n",
        "# df.std()"
      ]
    },
    {
      "cell_type": "code",
      "execution_count": null,
      "metadata": {
        "id": "q_5bIIfCa0Ln"
      },
      "outputs": [],
      "source": [
        "# make a figure\n",
        "# bar plot of mean\n",
        "# errorbars of the standard deviation\n",
        "# https://matplotlib.org/stable/api/_as_gen/matplotlib.pyplot.errorbar.html\n"
      ]
    },
    {
      "cell_type": "code",
      "execution_count": null,
      "metadata": {},
      "outputs": [],
      "source": [
        "# Calculate the z-scored temperature"
      ]
    },
    {
      "cell_type": "code",
      "execution_count": null,
      "metadata": {},
      "outputs": [],
      "source": [
        "# Make a histogram of the non-z-scored data on one subplot\n",
        "# Make a historgram of the z-scored data in another subplot"
      ]
    },
    {
      "cell_type": "code",
      "execution_count": null,
      "metadata": {},
      "outputs": [],
      "source": [
        "# TODO: Answer the following questions\n",
        "# - what is the mean and STD of the non-z-scored data\n",
        "# - what is the mean and STD of the z-scored data\n"
      ]
    }
  ],
  "metadata": {
    "colab": {
      "provenance": []
    },
    "kernelspec": {
      "display_name": "Python 3",
      "name": "python3"
    },
    "language_info": {
      "name": "python"
    }
  },
  "nbformat": 4,
  "nbformat_minor": 0
}
