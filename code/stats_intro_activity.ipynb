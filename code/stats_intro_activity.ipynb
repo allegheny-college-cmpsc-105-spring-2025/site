{
  "nbformat": 4,
  "nbformat_minor": 0,
  "metadata": {
    "colab": {
      "provenance": []
    },
    "kernelspec": {
      "name": "python3",
      "display_name": "Python 3"
    },
    "language_info": {
      "name": "python"
    }
  },
  "cells": [
    {
      "cell_type": "raw",
      "metadata": {
        "id": "RtyQekfm65B4"
      },
      "source": [
        "---\n",
        "format:\n",
        "  html:\n",
        "    code-fold: true\n",
        "jupyter: python3\n",
        "---"
      ]
    },
    {
      "cell_type": "markdown",
      "metadata": {
        "id": "I1D7859rdjaT"
      },
      "source": [
        "[![Open In Colab](https://colab.research.google.com/assets/colab-badge.svg)](https://githubtocolab.com/allegheny-college-cmpsc-105-spring-2025/site/blob/main/code/stats_intro_activity.ipynb)"
      ]
    },
    {
      "cell_type": "markdown",
      "source": [
        "# Statistics"
      ],
      "metadata": {
        "id": "qlPrbOoJoXVt"
      }
    },
    {
      "cell_type": "code",
      "source": [
        "# import pd, np, and matplotlib libraries"
      ],
      "metadata": {
        "id": "f6BtTYQfbtGs"
      },
      "execution_count": null,
      "outputs": []
    },
    {
      "cell_type": "code",
      "source": [
        "# read in temperature normals dataset\n",
        "# find raw url from course site repo (https://github.com/allegheny-college-cmpsc-105-spring-2025/site)\n",
        "\n",
        "df = pd.read_csv(\n",
        "    '',\n",
        "    sep=',',\n",
        "    skiprows=0\n",
        ")"
      ],
      "metadata": {
        "id": "KP13FXkha0ei"
      },
      "execution_count": null,
      "outputs": []
    },
    {
      "cell_type": "code",
      "source": [
        "# TODO: display column names\n",
        "\n",
        "# TODO: Check the number of rows and columns, i.e. shape\n",
        "\n",
        "# TODO: Get Rid of uneccessary information\n",
        "# df.drop(columns=['Bad_Col1','Bad_Col2', 'etc'])\n",
        "\n",
        "# TODO: rename individual columns for convenience\n",
        "# df = df.rename(columns={'A': 'X', 'B': 'Y', 'C': 'Z'})\n",
        "\n",
        "# TODO: Check the number of rows and columns, i.e. shape again"
      ],
      "metadata": {
        "id": "sO0tokeFb08h"
      },
      "execution_count": null,
      "outputs": []
    },
    {
      "cell_type": "code",
      "source": [
        "# mean\n",
        "# https://pandas.pydata.org/docs/reference/api/pandas.DataFrame.mean.html\n",
        "# df.mean(axis=1)"
      ],
      "metadata": {
        "id": "u9dFf6XWoZSK"
      },
      "execution_count": null,
      "outputs": []
    },
    {
      "cell_type": "code",
      "source": [
        "# standard deviation\n",
        "# https://pandas.pydata.org/docs/reference/api/pandas.DataFrame.std.html\n",
        "# df.std()"
      ],
      "metadata": {
        "id": "L3bwi-EuoaiY"
      },
      "execution_count": null,
      "outputs": []
    },
    {
      "cell_type": "code",
      "source": [
        "# make a figure"
      ],
      "metadata": {
        "id": "q_5bIIfCa0Ln"
      },
      "execution_count": null,
      "outputs": []
    }
  ]
}