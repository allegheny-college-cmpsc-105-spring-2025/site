{
  "cells": [
    {
      "cell_type": "raw",
      "id": "V9PonD_jMuVz",
      "metadata": {
        "id": "V9PonD_jMuVz"
      },
      "source": [
        "---\n",
        "format:\n",
        "  html:\n",
        "    code-fold: true\n",
        "jupyter: python3\n",
        "---"
      ]
    },
    {
      "cell_type": "markdown",
      "id": "GUZP-DyMM6pe",
      "metadata": {
        "id": "GUZP-DyMM6pe"
      },
      "source": [
        "[![Open In Colab](https://colab.research.google.com/assets/colab-badge.svg)](https://githubtocolab.com/allegheny-college-cmpsc-105-spring-2025/site/blob/main/code/linear_regression.ipynb)"
      ]
    },
    {
      "cell_type": "markdown",
      "id": "ba31e328",
      "metadata": {
        "id": "ba31e328"
      },
      "source": [
        "## Song Popularity Dataset\n"
      ]
    },
    {
      "cell_type": "code",
      "execution_count": null,
      "id": "e55ed336",
      "metadata": {
        "id": "e55ed336",
        "vscode": {
          "languageId": "python"
        }
      },
      "outputs": [],
      "source": [
        "import pandas as pd\n",
        "\n",
        "df = pd.read_csv('https://raw.githubusercontent.com/allegheny-college-cmpsc-105-generic/09-songdata-starter/refs/heads/main/assets/data/song_data.csv?token=GHSAT0AAAAAAC44A6IRTVRYBCJPK4GKHYQUZ7NZYHA')\n",
        "df"
      ]
    },
    {
      "cell_type": "markdown",
      "id": "5a443dbe",
      "metadata": {
        "id": "5a443dbe"
      },
      "source": [
        "## Visualize\n"
      ]
    },
    {
      "cell_type": "code",
      "execution_count": null,
      "id": "98ab50d4",
      "metadata": {
        "id": "98ab50d4",
        "vscode": {
          "languageId": "python"
        }
      },
      "outputs": [],
      "source": [
        "import matplotlib.pyplot as plt\n",
        "\n",
        "pop = df.song_popularity\n",
        "dur = df.song_duration_ms/(60 * 1000) # duration in minutes\n",
        "\n",
        "plt.figure()\n",
        "plt.scatter(pop, dur)\n",
        "plt.xlabel('Popularity')\n",
        "plt.ylabel('Duration (minutes)')\n",
        "plt.show()"
      ]
    },
    {
      "cell_type": "markdown",
      "id": "d4562086",
      "metadata": {
        "id": "d4562086"
      },
      "source": [
        "## Correlation\n"
      ]
    },
    {
      "cell_type": "code",
      "execution_count": null,
      "id": "48a33256",
      "metadata": {
        "id": "48a33256",
        "vscode": {
          "languageId": "python"
        }
      },
      "outputs": [],
      "source": [
        "pop = df.song_popularity\n",
        "dur = df.song_duration_ms/(60 * 1000) # duration in minutes\n",
        "\n",
        "numerator = sum((pop - pop.mean()) * (dur - dur.mean()))\n",
        "denominator = (sum( (pop - pop.mean())**2 ) * sum( (dur - dur.mean())**2 )) ** 0.5\n",
        "\n",
        "r = numerator / denominator\n",
        "print(r)"
      ]
    },
    {
      "cell_type": "markdown",
      "id": "4ba3b98c",
      "metadata": {
        "id": "4ba3b98c"
      },
      "source": [
        "## Slope\n"
      ]
    },
    {
      "cell_type": "code",
      "execution_count": null,
      "id": "4e0f78d3",
      "metadata": {
        "id": "4e0f78d3",
        "vscode": {
          "languageId": "python"
        }
      },
      "outputs": [],
      "source": [
        "pop = df.song_popularity\n",
        "dur = df.song_duration_ms/(60 * 1000) # duration in minutes\n",
        "\n",
        "numerator = sum((pop - pop.mean()) * (dur - dur.mean()))\n",
        "denominator = (sum( (pop - pop.mean())**2 ))\n",
        "\n",
        "slope = numerator / denominator\n",
        "print(slope)"
      ]
    },
    {
      "cell_type": "markdown",
      "id": "8b41be9c",
      "metadata": {
        "id": "8b41be9c"
      },
      "source": [
        "## Intercept\n"
      ]
    },
    {
      "cell_type": "code",
      "execution_count": null,
      "id": "7656fb8f",
      "metadata": {
        "id": "7656fb8f",
        "vscode": {
          "languageId": "python"
        }
      },
      "outputs": [],
      "source": [
        "# y = m * x + b\n",
        "# dur  = slope * pop + intercept\n",
        "# intercept = dur - slope * pop\n",
        "\n",
        "intercept = dur.mean() - (slope * pop.mean())\n",
        "print(intercept)"
      ]
    },
    {
      "cell_type": "markdown",
      "id": "b2cdad9c",
      "metadata": {
        "id": "b2cdad9c"
      },
      "source": [
        "## Add Line to Figure\n"
      ]
    },
    {
      "cell_type": "code",
      "execution_count": null,
      "id": "8cc457b4",
      "metadata": {
        "id": "8cc457b4",
        "vscode": {
          "languageId": "python"
        }
      },
      "outputs": [],
      "source": [
        "plt.figure()\n",
        "plt.scatter(pop, dur)\n",
        "plt.xlabel('Popularity')\n",
        "plt.ylabel('Duration (minutes)')\n",
        "\n",
        "plt.plot([0, 100], [slope * 0 + intercept, slope * 100 + intercept], 'r')\n",
        "plt.show()"
      ]
    },
    {
      "cell_type": "markdown",
      "id": "7b14e621",
      "metadata": {
        "id": "7b14e621"
      },
      "source": [
        "## Comparing Predicted and Actual y-values\n"
      ]
    },
    {
      "cell_type": "code",
      "execution_count": null,
      "id": "47057aa4",
      "metadata": {
        "id": "47057aa4",
        "vscode": {
          "languageId": "python"
        }
      },
      "outputs": [],
      "source": [
        "pred_dur = slope * pop + intercept\n",
        "error = pred_dur - dur # compare using subtraction\n",
        "MSE = (error ** 2).mean() # mean squared error\n",
        "print(MSE)"
      ]
    },
    {
      "cell_type": "markdown",
      "id": "74695570",
      "metadata": {
        "id": "74695570"
      },
      "source": [
        "## Using scipy\n"
      ]
    },
    {
      "cell_type": "code",
      "execution_count": 8,
      "id": "a0fb0a78",
      "metadata": {
        "id": "a0fb0a78",
        "vscode": {
          "languageId": "python"
        }
      },
      "outputs": [],
      "source": [
        "import scipy\n",
        "\n",
        "slope, intercept, r, p, se = scipy.stats.linregress(pop, dur)"
      ]
    },
    {
      "cell_type": "code",
      "execution_count": null,
      "id": "DQL1gcbl5hDn",
      "metadata": {
        "id": "DQL1gcbl5hDn",
        "vscode": {
          "languageId": "python"
        }
      },
      "outputs": [],
      "source": [
        "print(slope)\n",
        "print(intercept)\n",
        "print(r)\n",
        "print(p)\n",
        "print(se)"
      ]
    },
    {
      "cell_type": "code",
      "execution_count": null,
      "id": "xfgLkjWzBs0e",
      "metadata": {
        "id": "xfgLkjWzBs0e",
        "vscode": {
          "languageId": "python"
        }
      },
      "outputs": [],
      "source": [
        "r, p = scipy.stats.pearsonr(pop, dur)\n",
        "print(r)\n",
        "print(p)"
      ]
    },
    {
      "cell_type": "code",
      "execution_count": null,
      "id": "ktIbiABkKUEA",
      "metadata": {
        "id": "ktIbiABkKUEA",
        "vscode": {
          "languageId": "python"
        }
      },
      "outputs": [],
      "source": [
        "r**2"
      ]
    }
  ],
  "metadata": {
    "colab": {
      "provenance": []
    },
    "kernelspec": {
      "display_name": "Python 3 (ipykernel)",
      "language": "python",
      "name": "python3",
      "path": "/Users/egraber/Documents/Teaching/S2025-CMPSC105/.venv/share/jupyter/kernels/python3"
    }
  },
  "nbformat": 4,
  "nbformat_minor": 5
}
