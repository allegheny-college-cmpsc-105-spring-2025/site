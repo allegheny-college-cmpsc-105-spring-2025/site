{
  "cells": [
    {
      "cell_type": "raw",
      "metadata": {
        "id": "RtyQekfm65B4"
      },
      "source": [
        "---\n",
        "format:\n",
        "  html:\n",
        "    code-fold: true\n",
        "jupyter: python3\n",
        "---"
      ]
    },
    {
      "cell_type": "markdown",
      "metadata": {
        "id": "I1D7859rdjaT"
      },
      "source": [
        "[![Open In Colab](https://colab.research.google.com/assets/colab-badge.svg)](https://githubtocolab.com/allegheny-college-cmpsc-105-spring-2025/site/blob/main/code/data_interactivity_activity.ipynb)"
      ]
    },
    {
      "cell_type": "markdown",
      "metadata": {
        "id": "i-zUoYgLttM-"
      },
      "source": [
        "# Interactive Data Display Activity"
      ]
    },
    {
      "cell_type": "code",
      "execution_count": 16,
      "metadata": {
        "id": "O0gbu0yedSC9"
      },
      "outputs": [],
      "source": [
        "import pandas as pd\n",
        "import numpy as np\n",
        "import matplotlib.pyplot as plt\n",
        "from ipywidgets import interact"
      ]
    },
    {
      "cell_type": "markdown",
      "metadata": {
        "id": "kV5t5_o7trFR"
      },
      "source": [
        "## Basic Function"
      ]
    },
    {
      "cell_type": "code",
      "execution_count": null,
      "metadata": {
        "id": "kmzB0L2ksvJU"
      },
      "outputs": [],
      "source": [
        "plt.figure(figsize=(8, 4))\n",
        "plt.plot([0.1,0.2,0.3,0.4,0.5], [-2,-1,0,1,2], '*-')\n",
        "plt.xlabel('X')\n",
        "plt.ylabel('Y')\n",
        "plt.title('Y vs X')\n",
        "plt.xlim(0,2)\n",
        "plt.ylim(-5,5)\n",
        "plt.show()\n",
        "\n",
        "# TODO: What happens when you run this code cell?\n",
        "# TODO: What is the title?\n"
      ]
    },
    {
      "cell_type": "code",
      "execution_count": 14,
      "metadata": {
        "id": "YJPr2gbtl78U"
      },
      "outputs": [],
      "source": [
        "# Here is a function with the same code as above\n",
        "\n",
        "\n",
        "def plot_line():\n",
        "    plt.figure(figsize=(8, 4))\n",
        "    plt.plot([0.1,0.2,0.3,0.4,0.5], [-2,-1,0,1,2], '*-')\n",
        "    plt.xlabel('X')\n",
        "    plt.ylabel('Y')\n",
        "    plt.title('Y vs X')\n",
        "    plt.xlim(0,2)\n",
        "    plt.ylim(-5,5)\n",
        "    plt.show()\n",
        "\n",
        "\n",
        "# TODO: What happens when you run this code cell?"
      ]
    },
    {
      "cell_type": "code",
      "execution_count": null,
      "metadata": {
        "id": "4GY_XSoJtX9q"
      },
      "outputs": [],
      "source": [
        "plot_line()\n",
        "\n",
        "# TODO: What happens when you run this code cell?\n",
        "# TODO: How did the computer know what to do?\n"
      ]
    },
    {
      "cell_type": "markdown",
      "metadata": {
        "id": "zo9gChs6u1cc"
      },
      "source": [
        "## More interesting function"
      ]
    },
    {
      "cell_type": "code",
      "execution_count": null,
      "metadata": {
        "id": "ymPnT-WTu3tr"
      },
      "outputs": [],
      "source": [
        "# Create a sine wave with frequency 2 Hz and amplitude 3. Use variable name y\n",
        "# Then plot it\n",
        "\n",
        "freq = 2\n",
        "amplitude = 3\n",
        "\n",
        "pi = 3.14159\n",
        "\n",
        "t = np.arange(0, 2, 2/1000)\n",
        "y = amplitude * np.sin(2 * pi * freq * t)\n",
        "\n",
        "\n",
        "plt.figure(figsize=(8, 4))\n",
        "plt.plot(t, y, label=f'Sin(2 pi {freq} t) * {amplitude}')\n",
        "plt.xlabel('Time (seconds)')\n",
        "plt.ylabel('Amplitude')\n",
        "plt.legend()\n",
        "plt.xlim(0,2)\n",
        "plt.ylim(-5,5)\n",
        "plt.grid(True)\n",
        "plt.show()\n",
        "\n",
        "# TODO: What happens when you run this code cell?"
      ]
    },
    {
      "cell_type": "code",
      "execution_count": 26,
      "metadata": {
        "id": "Y8agVEGNw5Z3"
      },
      "outputs": [],
      "source": [
        "def plot_sine(freq, amplitude):\n",
        "\n",
        "  pi = 3.14159\n",
        "\n",
        "  t = np.arange(0, 2, 2/1000)\n",
        "  y = amplitude * np.sin(2 * pi * freq * t)\n",
        "\n",
        "\n",
        "  plt.figure(figsize=(8, 4))\n",
        "  plt.plot(t, y, label=f'Sin(2 pi {freq} t) * {amplitude}')\n",
        "  plt.xlabel('Time (seconds)')\n",
        "  plt.ylabel('Amplitude')\n",
        "  plt.legend()\n",
        "  plt.xlim(0,2)\n",
        "  plt.ylim(-5,5)\n",
        "  plt.grid(True)\n",
        "  plt.show()\n",
        "\n",
        "# TODO: What happens when you run this code cell?\n",
        "# Decribe what you see above that is new"
      ]
    },
    {
      "cell_type": "code",
      "execution_count": null,
      "metadata": {
        "id": "GsoTlQIeq-tK"
      },
      "outputs": [],
      "source": [
        "plt.close('all')\n",
        "\n",
        "plot_sine(freq=2, amplitude=3)\n",
        "\n",
        "# TODO: What happens when you run this code cell?\n",
        "# TODO: How is it similar or different from above?"
      ]
    },
    {
      "cell_type": "code",
      "execution_count": null,
      "metadata": {
        "id": "QWqjF0rfxWkE"
      },
      "outputs": [],
      "source": [
        "plt.close('all')\n",
        "\n",
        "plot_sine(freq=2, amplitude=1)\n",
        "\n",
        "# TODO: What happens when you run this code cell?\n",
        "# TODO: How is it similar or different from above?"
      ]
    },
    {
      "cell_type": "code",
      "execution_count": null,
      "metadata": {
        "id": "UPv1qYqLxbUL"
      },
      "outputs": [],
      "source": [
        "plt.close('all')\n",
        "\n",
        "plot_sine(freq=6, amplitude=1)\n",
        "\n",
        "# TODO: What happens when you run this code cell?\n",
        "# TODO: How is it similar or different from above?"
      ]
    },
    {
      "cell_type": "markdown",
      "metadata": {
        "id": "fx2gLZD4xmE_"
      },
      "source": [
        "## Interactive function call!"
      ]
    },
    {
      "cell_type": "code",
      "execution_count": null,
      "metadata": {
        "id": "mUJRAxd4ETtu"
      },
      "outputs": [],
      "source": [
        "plt.close('all')\n",
        "\n",
        "# The interact function takes the plotting function, and parameters of the plotting function!\n",
        "# The parameters of the plotting function turn into sliders\n",
        "# the slider must be specified with some information: (start, end, hop)\n",
        "\n",
        "interact(plot_sine, freq=(0.1, 10.0, 0.1), amplitude=(0.1, 5.0, 0.1))"
      ]
    },
    {
      "cell_type": "markdown",
      "metadata": {
        "id": "dzGEoxwQx34b"
      },
      "source": [
        "## Now with Data in a DF"
      ]
    },
    {
      "cell_type": "code",
      "execution_count": null,
      "metadata": {
        "id": "2L1pkWT993PF"
      },
      "outputs": [],
      "source": [
        "\n",
        "\n",
        "df = pd.read_csv(\n",
        "    'https://raw.githubusercontent.com/allegheny-college-cmpsc-105-spring-2025/data-distortion-starter/refs/heads/main/data/data-distortion-noaa-2006-2020-USW00004843.csv',\n",
        "    sep=',',\n",
        "    names = ['INDEX', 'STATION', 'NAME', 'LATITUDE', 'LONGITUDE', 'ELEVATION',\n",
        "       'DATE', 'month', 'day', 'hour', 'HLY-TEMP-NORMAL'],\n",
        "    skiprows=1\n",
        ")\n",
        "\n",
        "print(df.head()) # Display the first few rows of the DataFrame"
      ]
    },
    {
      "cell_type": "markdown",
      "metadata": {},
      "source": [
        "- TODO: In the variable explorer (`{x}`), what Shape does the variable `df` have? Write your response here:"
      ]
    },
    {
      "cell_type": "code",
      "execution_count": 17,
      "metadata": {
        "id": "I1UqGKyOk8-E"
      },
      "outputs": [],
      "source": [
        "# a plotting function\n",
        "# it has a parameter called month\n",
        "\n",
        "def plot_df(month):\n",
        "\n",
        "    plt.figure(figsize=(8, 4))\n",
        "    plt.plot(df.loc[df['month']==month,'INDEX'], df.loc[df['month']==month,'HLY-TEMP-NORMAL'])\n",
        "    plt.xticks(df.loc[df['month']==month,'INDEX'][::72], df.loc[df['month']==month,'DATE'][::72], rotation=90)\n",
        "    plt.xlabel('Time (hours)')\n",
        "    plt.ylabel('Normals (F)')\n",
        "    plt.title(f'Month {month}')\n",
        "    plt.ylim(-20,100)\n",
        "    plt.show()\n",
        "\n",
        "# TODO: What happens when you run this cell?"
      ]
    },
    {
      "cell_type": "code",
      "execution_count": null,
      "metadata": {
        "id": "WDiJVNz6n8ma"
      },
      "outputs": [],
      "source": [
        "plt.close('all')\n",
        "\n",
        "\n",
        "# The interact function takes the plotting function, and parameters of the plotting function!\n",
        "# The parameters of the plotting function turn into sliders\n",
        "# the slider must be specified with some information: (start, end, hop)\n",
        "\n",
        "\n",
        "interact(plot_df, month=(1,12,1))"
      ]
    },
    {
      "cell_type": "markdown",
      "metadata": {
        "id": "JSEjYOy1yFlI"
      },
      "source": [
        "## You Try"
      ]
    },
    {
      "cell_type": "code",
      "execution_count": null,
      "metadata": {
        "id": "z9efXLNXyHvV"
      },
      "outputs": [],
      "source": [
        "# TODOs\n",
        "# make a plotting function that has a parameter of month and hour\n",
        "# inside the function, set up filtering that considers both the month & hour\n",
        "# Make sure the filters select just rows from df that are equal to (==) the selected month and hour"
      ]
    },
    {
      "cell_type": "code",
      "execution_count": null,
      "metadata": {
        "id": "6mwKyHaazCny"
      },
      "outputs": [],
      "source": [
        "# TODOs\n",
        "# Call your function, but turn the parameters into sliders!\n",
        "# the month will only go from 1 to 12\n",
        "# the hour should only go from 0 to 24"
      ]
    },
    {
      "cell_type": "markdown",
      "metadata": {
        "id": "UxfIj1yGz0WS"
      },
      "source": [
        "## Discord Post\n",
        "\n",
        "TODO: Post about data that you would like to filter interactively or data that you have seen filtered interactively. These will be shared in class on Thursday."
      ]
    },
    {
      "cell_type": "markdown",
      "metadata": {
        "id": "A60p2b7F0L8r"
      },
      "source": [
        "## Submit this completed activity to your activities repository"
      ]
    }
  ],
  "metadata": {
    "colab": {
      "provenance": []
    },
    "kernelspec": {
      "display_name": "Python 3",
      "name": "python3"
    },
    "language_info": {
      "name": "python"
    }
  },
  "nbformat": 4,
  "nbformat_minor": 0
}
