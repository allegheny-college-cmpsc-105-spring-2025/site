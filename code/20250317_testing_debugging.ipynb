{
  "nbformat": 4,
  "nbformat_minor": 0,
  "metadata": {
    "colab": {
      "provenance": []
    },
    "kernelspec": {
      "name": "python3",
      "display_name": "Python 3"
    },
    "language_info": {
      "name": "python"
    }
  },
  "cells": [
    {
      "cell_type": "markdown",
      "source": [
        "[![Open In Colab](https://colab.research.google.com/assets/colab-badge.svg)](https://githubtocolab.com/allegheny-college-cmpsc-101-spring-2025/site/blob/main/code/20250317_testing_debugging.ipynb)"
      ],
      "metadata": {
        "id": "VtlvDjBduMYI"
      }
    },
    {
      "cell_type": "markdown",
      "source": [
        "# Guttag Chapter 8"
      ],
      "metadata": {
        "id": "EgbLPVnlp_UJ"
      }
    },
    {
      "cell_type": "code",
      "source": [
        "# Example function within palindromechecker.palindrome\n",
        "\n",
        "# TODO: what is the module name?\n",
        "# TODO: what is the package name?\n",
        "# TODO: does the function def within the module rely on any imported objects?\n",
        "\n",
        "def pal_rev(word: str) -> bool:\n",
        "  \"\"\"Determine if a given word is a palindrome.\"\"\"\n",
        "  # TODO: reverse the word\n",
        "  # TODO: return whether or not the reversed word is the same as the word"
      ],
      "metadata": {
        "id": "aiicaSvIqDS8"
      },
      "execution_count": null,
      "outputs": []
    },
    {
      "cell_type": "code",
      "source": [
        "# Example function within palindromechecker.palindrome\n",
        "\n",
        "# TODO: what is the module name?\n",
        "# TODO: what is the package name?\n",
        "# TODO: does the function def within the module rely on any imported objects?\n",
        "\n",
        "def pal_rev(word: str) -> bool:\n",
        "  \"\"\"Determine if a given word is a palindrome.\"\"\"\n",
        "  return word == word[::-1]"
      ],
      "metadata": {
        "id": "9WHOcaT7sX9Q"
      },
      "execution_count": null,
      "outputs": []
    },
    {
      "cell_type": "code",
      "source": [
        "# Example function within tests.test_palindrome\n",
        "\n",
        "# TODO: what is the module name?\n",
        "# TODO: what is the package name?\n",
        "# TODO: does the function def within the module rely on any imported objects?\n",
        "\n",
        "def test_short_not_palindrome_word_reverse():\n",
        "    \"\"\"Ensure that a short word of \"taylor\" does not work correctly with reverse.\"\"\"\n",
        "    # TODO: hard code the input\n",
        "    # TODO: hard code the expected answer\n",
        "    # TODO: call the function under test with the hard coded input\n",
        "    # TODO: make sure the return value is saved!\n",
        "    # TODO: use the assert syntax compare the hard coded expected answer with\n",
        "    # the returned answer"
      ],
      "metadata": {
        "id": "s7ZnlzGwqqgp"
      },
      "execution_count": null,
      "outputs": []
    },
    {
      "cell_type": "code",
      "source": [
        "def test_short_not_palindrome_word_reverse():\n",
        "    \"\"\"Ensure that a short word of \"taylor\" does not work correctly with reverse.\"\"\"\n",
        "    test_word = 'taylor' # hard coded\n",
        "    expected_result = False # hard coded\n",
        "    result = pal_rev(test_word)\n",
        "    assert result == expected_result"
      ],
      "metadata": {
        "id": "oySZSZvjskff"
      },
      "execution_count": null,
      "outputs": []
    }
  ]
}