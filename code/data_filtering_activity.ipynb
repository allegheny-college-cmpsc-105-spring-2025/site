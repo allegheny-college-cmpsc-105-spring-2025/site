{
  "cells": [
    {
      "cell_type": "raw",
      "metadata": {
        "id": "RtyQekfm65B4"
      },
      "source": [
        "---\n",
        "format:\n",
        "  html:\n",
        "    code-fold: true\n",
        "jupyter: python3\n",
        "---"
      ]
    },
    {
      "cell_type": "markdown",
      "metadata": {
        "id": "I1D7859rdjaT"
      },
      "source": [
        "[![Open In Colab](https://colab.research.google.com/assets/colab-badge.svg)](https://githubtocolab.com/allegheny-college-cmpsc-105-spring-2025/site/blob/main/code/data_filtering_activity.ipynb)"
      ]
    },
    {
      "cell_type": "markdown",
      "metadata": {
        "id": "Gd-KDtC5Inf9"
      },
      "source": [
        "# Class Activity"
      ]
    },
    {
      "cell_type": "markdown",
      "metadata": {
        "id": "bwUV0i9UIt1e"
      },
      "source": [
        "## Goals\n",
        "\n",
        "1. Work with colleagues at your table\n",
        "2. Review variables and assignment\n",
        "3. Write code to control a matrix\n",
        "4. Write code for logical contorl\n",
        "5. Write code for dataframe control"
      ]
    },
    {
      "cell_type": "markdown",
      "source": [
        "## Variables and Assignment ([REF](https://colab.research.google.com/github/mco-gh/mco.dev/blob/master/static/notebooks/2_Variables.ipynb))"
      ],
      "metadata": {
        "id": "3GSwb_9b52i-"
      }
    },
    {
      "cell_type": "code",
      "metadata": {
        "id": "ZwVDSRQmGeeb"
      },
      "source": [
        "# Variables are names - a reusable label for a data value.\n",
        "\n",
        "name = 'Marc'\n",
        "print(name)\n",
        "pi = 3.14\n",
        "print(pi)\n",
        "customer_id = \"1234\"\n",
        "# TODO: add a print statement to see customer_id\n",
        "account_balance = 1000\n",
        "# TODO: add a print statement to see account_balance\n"
      ],
      "execution_count": null,
      "outputs": []
    },
    {
      "cell_type": "code",
      "source": [
        "# if the same name is used to store new data, the old data is lost\n",
        "\n",
        "pi = 3.14\n",
        "print(pi)\n",
        "pi = 'Marc'\n",
        "# TODO: add a print statement to see pi"
      ],
      "metadata": {
        "id": "fifbE-Um7M6P"
      },
      "execution_count": null,
      "outputs": []
    },
    {
      "cell_type": "code",
      "source": [
        "# assignment is a fancy term for associating or storing data\n",
        "\n",
        "# here 3.14 is assigned to the variable name pi using the `=`\n",
        "pi = 3.14\n",
        "\n",
        "# TODO: assign the value 5 to pi\n",
        "# TODO: add a print statement to see pi\n",
        "# TODO: assign the value \"hello\" to message\n",
        "# TODO: add a print statement to see message\n",
        "# TODO: assign the value [1,2,3,4,5] to data\n",
        "# TODO: add a print statement to see data"
      ],
      "metadata": {
        "id": "d5CmULQy7217"
      },
      "execution_count": null,
      "outputs": []
    },
    {
      "cell_type": "markdown",
      "source": [
        "### Reserved Words\n",
        "\n",
        "The following words have special meaning in Python. We call them keywords or reserved words and **you may not use these names** for your program variables.\n",
        "\n",
        "> ```and, as, assert, async, await, break, class, continue, def, del, elif, else, except, False, finally, for, from, global, if, import, in, is, lambda, nonlocal, None, not, or, pass, raise, return, True, try, while, with, yield```"
      ],
      "metadata": {
        "id": "AQsH4eIdsUY_"
      }
    },
    {
      "cell_type": "markdown",
      "source": [
        "## Matrix"
      ],
      "metadata": {
        "id": "THfwGo-Z9G69"
      }
    },
    {
      "cell_type": "code",
      "source": [
        "# TODO: run this code to make a simple matrix in a pandas dataframe\n",
        "\n",
        "import pandas as pd\n",
        "\n",
        "matrix = pd.read_csv(\n",
        "    '/content/data-filtering-matrix.csv',\n",
        "    sep=',',\n",
        "    names = ['A', 'B', 'C'],\n",
        "    skiprows=1)\n"
      ],
      "metadata": {
        "id": "iS17a9qDZvWh"
      },
      "execution_count": 37,
      "outputs": []
    },
    {
      "cell_type": "code",
      "execution_count": null,
      "metadata": {
        "id": "kyoXl_fhWqlh"
      },
      "outputs": [],
      "source": [
        "# TODO: add a print statement to see the dataframe\n",
        "print(matrix)"
      ]
    },
    {
      "cell_type": "code",
      "source": [
        "# The matrix contains 15 values in five rows and three columns\n",
        "# TODO: verify this using the data explorer\n",
        "\n",
        "\n",
        "# Each item has a unique location in the matrix given by its row and column\n",
        "# Using python convention, the rows and columns are idenfied with integers starting at 0!\n",
        "\n",
        "# On the 0th row, column 0 has the value of 0.0\n",
        "# On the 4nd row, column 0 has the value of 4.0\n",
        "# TODO: What is the largest row index in the matrix?\n",
        "# TODO: What is the largest column index in the matrix?\n",
        "\n",
        "# Here's how you access the element on row 4, column 0\n",
        "element = matrix.iloc[4,0]\n",
        "print(element)\n",
        "\n",
        "# TODO: access the element on row 3 column 2 and assign it to the variable `another_element`\n",
        "# TODO: add a print statement to see `another_element`\n",
        "\n",
        "# TODO: make sure you get what you expect!"
      ],
      "metadata": {
        "id": "8tHBuqo691oH"
      },
      "execution_count": null,
      "outputs": []
    },
    {
      "cell_type": "code",
      "source": [
        "# Indexing to get one element is very simple, but what if you want multiple elements in a row, or in a column?\n",
        "\n",
        "# Slicing is the way to do it!\n",
        "# the sytax for slicing is like this: [start_index:end_index:hop_size]\n",
        "# Using python convention, note that the end_index will not be included in the slice\n",
        "\n",
        "# Here is a slice example on the columns\n",
        "slice_example = matrix.iloc[0,0:2:1]\n",
        "print(slice_example)\n",
        "\n",
        "# TODO: use words to write out what the slice contains\n",
        "\n",
        "# TODO: Write a slice that gets the first through fourth rows (not including 4) from column two and assign it to a variable\n",
        "# TODO: add a print statement to see your slice\n",
        "\n",
        "# TODO: Write a slice that gets the 0th through fourth rows (not including 4) from column one, hopping by 2, and assign it to a variable\n",
        "# TODO: add a print statement to see your slice\n",
        "\n",
        "# TODO: Come up with your own example\n",
        "\n",
        "# TODO: make sure you get what you expect!"
      ],
      "metadata": {
        "collapsed": true,
        "id": "s5agXMWt_pJX"
      },
      "execution_count": null,
      "outputs": []
    },
    {
      "cell_type": "code",
      "source": [
        "# The syntax of a slice is [start:end:hop_size], but if start or end is left out, then the endpoints are assumed!\n",
        "# warning - don't forget to include the `:`\n",
        "\n",
        "# Here is every columns in row 0, including the start and INCLUDING the end!\n",
        "full_slice = matrix.iloc[0,::1]\n",
        "print(full_slice)\n",
        "\n",
        "# TODO: Write a slice that gets every column in row 4, including the start and INCLUDING the end! Assign to a variable\n",
        "# TODO: add a print statement to see your slice\n",
        "\n",
        "# TODO: make sure you get what you expect! Is there anything unexpected?"
      ],
      "metadata": {
        "id": "7z3ctIjvCsBe"
      },
      "execution_count": null,
      "outputs": []
    },
    {
      "cell_type": "code",
      "source": [
        "# Slices to endpoints have already been used in our labs\n",
        "\n",
        "# TODO: find any spot where the slices have been used in our labs and put a link for yourself below\n",
        "# TODO: how was the slice used in the lab?"
      ],
      "metadata": {
        "id": "AkrwZAOoBxar"
      },
      "execution_count": null,
      "outputs": []
    },
    {
      "cell_type": "markdown",
      "source": [
        "## Logical Control"
      ],
      "metadata": {
        "id": "z77Z6YWtEfV3"
      }
    },
    {
      "cell_type": "code",
      "source": [
        "# First lets review some comparison operators"
      ],
      "metadata": {
        "id": "mHc3aLB1FXIG"
      },
      "execution_count": null,
      "outputs": []
    },
    {
      "cell_type": "markdown",
      "source": [
        "The following table summarizes the most commonly used comparison operators in Python, along with their definition when applied to numbers.\n",
        "\n",
        "|operator|operation on numbers|\n",
        "|--------|--------------------|\n",
        "|==|equal to|\n",
        "|!=|not equal to|\n",
        "|>|greater than|\n",
        "|>=|greater than or equal to|\n",
        "|<|less than|\n",
        "|<=|less than or equal to|\n",
        "\n",
        "As their name suggests, comparison operators allow us to compare two values.  "
      ],
      "metadata": {
        "id": "CAu4IzvnFrqj"
      }
    },
    {
      "cell_type": "code",
      "source": [
        "# Here is a comparison of 4 vs 5. It asks the question: is four larger than five?\n",
        "# TODO: what answer should come out?\n",
        "# TODO: run this, what does come out?\n",
        "4 > 5"
      ],
      "metadata": {
        "id": "IE7-GH6fGIVs"
      },
      "execution_count": null,
      "outputs": []
    },
    {
      "cell_type": "code",
      "source": [
        "# As you can see, comparison operators allow us to compare values and result in a boolean type indicating whether the comparison is `True` or `False`.\n",
        "# TODO: make a comparison the checks if five is greater than four, assign to a variable and print it\n",
        "# TODO: make a comparison the checks if five is not equal to four, assign to a variable and print it\n",
        "# TODO: make a comparison the checks if five is equal to four, assign to a variable and print it\n"
      ],
      "metadata": {
        "id": "RNELaNOmGHjo"
      },
      "execution_count": null,
      "outputs": []
    },
    {
      "cell_type": "code",
      "source": [
        "# TODO: what is the difference between `=` and `==`?"
      ],
      "metadata": {
        "id": "ZVOUhpZ3GwCO"
      },
      "execution_count": null,
      "outputs": []
    },
    {
      "cell_type": "code",
      "source": [
        "# It turns out that matrices can be compared too!\n",
        "# What elements in the matrix are greater than 1?\n",
        "\n",
        "# TODO: what do you think will happen\n",
        "selection = matrix > 1\n",
        "# TODO: add a print statement to see selection\n",
        "# Does it match your expectations?"
      ],
      "metadata": {
        "id": "ho4Pq7-7G90a"
      },
      "execution_count": null,
      "outputs": []
    },
    {
      "cell_type": "code",
      "source": [
        "# Write another comparison with matrix to ask which elements are equal to 4, assign to a variable called select_4 and print"
      ],
      "metadata": {
        "id": "jGkSjCdAI4fR"
      },
      "execution_count": null,
      "outputs": []
    },
    {
      "cell_type": "code",
      "source": [
        "# Now we can use the selection to access only those elements!\n",
        "# The rows and columns do not need to be set.\n",
        "# Simply use the selection as the only index! Amazing!\n",
        "\n",
        "result = matrix[selection]\n",
        "print(result)\n",
        "\n",
        "# TODO: use select_4 as the only index, assign to variable and print\n",
        "# TODO: Does it match your expectations?\n"
      ],
      "metadata": {
        "id": "nyu8VZruJMKJ"
      },
      "execution_count": null,
      "outputs": []
    },
    {
      "cell_type": "code",
      "source": [
        "# Finally, I want to show you how to combine comparions\n",
        "# Think of this question: what elements in the matrix are greater than one AND less then three?\n",
        "# The AND is done with `&`\n",
        "\n",
        "greaterthanone = matrix > 1\n",
        "print(\"greather than one: \\n\", greaterthanone)\n",
        "lessthanthree = matrix < 3\n",
        "print(\"less than three: \\n\", lessthanthree)\n",
        "both = greaterthanone & lessthanthree\n",
        "print(\"both: \\n\", both)\n",
        "result = matrix[both]\n",
        "print(\"result: \\n\", result)\n",
        "\n",
        "# TODO: Does it match your expectations?"
      ],
      "metadata": {
        "id": "2e99qT_N5fOi"
      },
      "execution_count": null,
      "outputs": []
    },
    {
      "cell_type": "code",
      "source": [
        "# Here is the same thing, but all in one line of code...\n",
        "\n",
        "print(matrix[(matrix > 1) & (matrix < 3)])"
      ],
      "metadata": {
        "id": "BdxnyF5BL6_7"
      },
      "execution_count": null,
      "outputs": []
    },
    {
      "cell_type": "code",
      "source": [
        "# TODO: think of one or more questions you have and then post it in discord.\n",
        "# TODO: As you see your colleagues questions, reply to their message if you have the answer!"
      ],
      "metadata": {
        "id": "gT5_DA9AKplQ"
      },
      "execution_count": null,
      "outputs": []
    },
    {
      "cell_type": "markdown",
      "source": [
        "## Dataframe Control with .loc"
      ],
      "metadata": {
        "id": "vRx2_O0jMwmJ"
      }
    },
    {
      "cell_type": "code",
      "source": [
        "# Controlling a Dataframe is similar to controlling a matrix.\n",
        "# Slicing is possible and logical comparison are possible!\n",
        "# One of the main differences is that indexing is done with .loc\n",
        "\n",
        "# Below is a the hourly temperature normals dataset for Meadville in a pandas dataframe called `dfm`\n",
        "# This same dataset was used in the data_distortion lab\n",
        "# The columns are named\n",
        "# The column containing the normals is called `HLY-TEMP-NORMAL`\n",
        "# Each hour is a year is given in the column called `INDEX`\n",
        "# A readable label for each hour in a year is given in the column called `DATE`\n",
        "\n",
        "# lets apply your new skills of logical indexing to this dataset"
      ],
      "metadata": {
        "id": "1YOt8RA5M5DP"
      },
      "execution_count": null,
      "outputs": []
    },
    {
      "cell_type": "code",
      "source": [
        "# TODO: run this cell\n",
        "\n",
        "# load pre-existing tools available for data exploration\n",
        "import pandas as pd\n",
        "import matplotlib.pyplot as plt\n",
        "\n",
        "# create a pandas dataframe\n",
        "dfm = pd.read_csv(\n",
        "    'https://raw.githubusercontent.com/allegheny-college-cmpsc-105-spring-2025/data-distortion-starter/refs/heads/main/data/data-distortion-noaa-2006-2020-USW00004843.csv',\n",
        "    sep=',',\n",
        "    names = ['INDEX', 'STATION', 'NAME', 'LATITUDE', 'LONGITUDE', 'ELEVATION',\n",
        "       'DATE', 'month', 'day', 'hour', 'HLY-TEMP-NORMAL'],\n",
        "    skiprows=1\n",
        ")\n",
        "\n",
        "# Display the first few rows of the DataFrame\n",
        "print(dfm.head())"
      ],
      "metadata": {
        "id": "ceMTYBIDgQl_"
      },
      "execution_count": null,
      "outputs": []
    },
    {
      "cell_type": "code",
      "source": [
        "# TODO: how many rows are in the dataframe?\n",
        "# TODO: how many columns are in the dataframe?"
      ],
      "metadata": {
        "id": "EWLP5t61NQLe"
      },
      "execution_count": null,
      "outputs": []
    },
    {
      "cell_type": "code",
      "source": [
        "# This cell creates logical filters, then applies them with .loc\n",
        "\n",
        "# Only rows from the midnight hour in the month of March are selected\n",
        "selected_hours = dfm['hour'] == 0\n",
        "selected_months = dfm['month'] == 3\n",
        "selected_rows = selected_hours & selected_months\n",
        "\n",
        "\n",
        "# new dataframes are made that contain ONLY THE SELECTED ROWS using .loc\n",
        "# here is the syntax for .loc: .loc[rows, columns]\n",
        "dfm_selected_normals = dfm.loc[selected_rows, 'HLY-TEMP-NORMAL']\n",
        "dfm_selected_indices = dfm.loc[selected_rows, 'INDEX']\n",
        "dfm_selected_dates = dfm.loc[selected_rows, 'DATE']\n",
        "\n",
        "\n",
        "print(dfm_selected_normals)\n",
        "print(dfm_selected_indices)\n",
        "print(dfm_selected_dates)"
      ],
      "metadata": {
        "id": "GHt9kN_-3m5W"
      },
      "execution_count": null,
      "outputs": []
    },
    {
      "cell_type": "code",
      "source": [
        "# Here is the same thing in one line\n",
        "\n",
        "dfm.loc[(dfm['hour'] == 0) & (dfm['month'] == 3), 'INDEX']"
      ],
      "metadata": {
        "id": "wfQkJl7Ud8NX"
      },
      "execution_count": null,
      "outputs": []
    },
    {
      "cell_type": "code",
      "source": [
        "# Assuming df is already created in the previous code cell\n",
        "\n",
        "# TODO: Run this code cell\n",
        "# TODO: What does the figure show?\n",
        "# TODO: Fill in appropriate title, xlabel and ylabel using you understanding of logical indexing\n",
        "\n",
        "# Control how many xtick labels are on the x axis\n",
        "xtick_hopsize = 3\n",
        "\n",
        "# Clear out memory (doesn't impact the visualization, but keeps the computer happy)\n",
        "plt.close('all')\n",
        "\n",
        "# make a blank canvas\n",
        "plt.figure(figsize=(12, 4))\n",
        "\n",
        "# set the overall title for all subfigures\n",
        "plt.suptitle('Figure 1')\n",
        "\n",
        "# subplot 1\n",
        "plt.subplot(1, 2, 1)\n",
        "plt.plot(dfm.loc[(dfm['hour'] == 7) & (dfm['month'] == 2), 'INDEX'], dfm.loc[(dfm['hour'] == 7) & (dfm['month'] == 2), 'HLY-TEMP-NORMAL'], '*-') # layer 1\n",
        "plt.plot(dfm.loc[(dfm['hour'] == 8) & (dfm['month'] == 2), 'INDEX'], dfm.loc[(dfm['hour'] == 8) & (dfm['month'] == 2), 'HLY-TEMP-NORMAL'], '*-') # layer 2\n",
        "plt.plot(dfm.loc[(dfm['hour'] == 9) & (dfm['month'] == 2), 'INDEX'], dfm.loc[(dfm['hour'] == 9) & (dfm['month'] == 2), 'HLY-TEMP-NORMAL'], '*-') # layer 3\n",
        "plt.plot(dfm.loc[(dfm['hour'] == 10) & (dfm['month'] == 2), 'INDEX'], dfm.loc[(dfm['hour'] == 10) & (dfm['month'] == 2), 'HLY-TEMP-NORMAL'], '*-') # layer 4\n",
        "plt.plot(dfm.loc[(dfm['hour'] == 11) & (dfm['month'] == 2), 'INDEX'], dfm.loc[(dfm['hour'] == 11) & (dfm['month'] == 2), 'HLY-TEMP-NORMAL'], '*-') # layer 5\n",
        "plt.plot(dfm.loc[(dfm['hour'] == 12) & (dfm['month'] == 2), 'INDEX'], dfm.loc[(dfm['hour'] == 12) & (dfm['month'] == 2), 'HLY-TEMP-NORMAL'], '*-') # layer 6\n",
        "plt.plot(dfm.loc[(dfm['hour'] == 13) & (dfm['month'] == 2), 'INDEX'], dfm.loc[(dfm['hour'] == 13) & (dfm['month'] == 2), 'HLY-TEMP-NORMAL'], '*-') # layer 7\n",
        "plt.plot(dfm.loc[(dfm['hour'] == 14) & (dfm['month'] == 2), 'INDEX'], dfm.loc[(dfm['hour'] == 14) & (dfm['month'] == 2), 'HLY-TEMP-NORMAL'], '*-') # layer 8\n",
        "plt.legend(['7 AM', '8 AM', '9 AM', '10 AM', '11 AM', '12 PM', '1 PM', '2 PM'])\n",
        "# the plt.xticks function labels the ticks so that dates appear instead of index\n",
        "plt.xticks(dfm.loc[(dfm['hour'] == 11) & (dfm['month'] == 2), 'INDEX'][::xtick_hopsize], dfm.loc[(dfm['hour'] == 11) & (dfm['month'] == 2), 'DATE'][::xtick_hopsize], rotation=90)\n",
        "plt.xlabel('')\n",
        "plt.ylabel('')\n",
        "plt.title('')\n",
        "plt.grid(True)\n",
        "\n",
        "plt.show()"
      ],
      "metadata": {
        "id": "W3y5I76LQfaO"
      },
      "execution_count": null,
      "outputs": []
    },
    {
      "cell_type": "markdown",
      "source": [
        "## Video"
      ],
      "metadata": {
        "id": "tdF6VeyDYUpS"
      }
    },
    {
      "cell_type": "code",
      "source": [
        "# TODO: watch the video (also linked on the course website) - https://youtu.be/v5pJfu-yn-0\n",
        "\n",
        "# TODO: What two terms are used instead of logical indexing?"
      ],
      "metadata": {
        "id": "jt-YdnOpYWTr"
      },
      "execution_count": null,
      "outputs": []
    }
  ],
  "metadata": {
    "colab": {
      "provenance": [],
      "collapsed_sections": [
        "3GSwb_9b52i-"
      ],
      "toc_visible": true
    },
    "kernelspec": {
      "display_name": "Python 3",
      "name": "python3"
    },
    "language_info": {
      "name": "python"
    }
  },
  "nbformat": 4,
  "nbformat_minor": 0
}