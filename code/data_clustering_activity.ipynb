{
  "cells": [
    {
      "cell_type": "raw",
      "metadata": {
        "id": "RtyQekfm65B4"
      },
      "source": [
        "---\n",
        "format:\n",
        "  html:\n",
        "    code-fold: true\n",
        "jupyter: python3\n",
        "---"
      ]
    },
    {
      "cell_type": "markdown",
      "metadata": {
        "id": "I1D7859rdjaT"
      },
      "source": [
        "[![Open In Colab](https://colab.research.google.com/assets/colab-badge.svg)](https://githubtocolab.com/allegheny-college-cmpsc-105-spring-2025/site/blob/main/code/data_clustering_activity.ipynb)"
      ]
    },
    {
      "cell_type": "markdown",
      "source": [
        "# Data Clustering Activity"
      ],
      "metadata": {
        "id": "i-zUoYgLttM-"
      }
    },
    {
      "cell_type": "markdown",
      "source": [
        "Scatter plots visualize relationships between two variables, but we can do more with the visualization. What if two variables are not necessarily correlated, but they form clusters?\n",
        "\n",
        "![](https://miro.medium.com/v2/resize:fit:1400/1*-vVYAADrOKB0_Y0T381_Gw.png)"
      ],
      "metadata": {
        "id": "XXpNTkhiYXZ7"
      }
    },
    {
      "cell_type": "markdown",
      "source": [
        "This teaching content has been adpated from the K-Means Clustering video (click to get to video):\n",
        "\n",
        "[![K-Means Clustering](https://embed.filekitcdn.com/e/bLsrpyq139NahA7eLBZSXF/e5WBFjHKjAELum3VjebTr4)](https://www.youtube.com/embed/9Mmj8NMCqEQ?si=RtqknpxEIIcVLJ20&t=84 \"K-Means\")\n"
      ],
      "metadata": {
        "id": "SGdG98NI8wo2"
      }
    },
    {
      "cell_type": "markdown",
      "source": [
        "![](https://miro.medium.com/v2/resize:fit:720/1*YYiQed4kj_EZ2qfg_imDWA.png)"
      ],
      "metadata": {
        "id": "eY8e_qmyAImI"
      }
    },
    {
      "cell_type": "markdown",
      "source": [
        "![](https://mlforanalytics.com/wp-content/uploads/2018/04/euclidean-distance.jpg)"
      ],
      "metadata": {
        "id": "DqWKbgycGCF7"
      }
    },
    {
      "cell_type": "code",
      "execution_count": 88,
      "metadata": {
        "id": "O0gbu0yedSC9"
      },
      "outputs": [],
      "source": [
        "import pandas as pd\n",
        "import numpy as np\n",
        "import matplotlib.pyplot as plt\n",
        "import scipy"
      ]
    },
    {
      "cell_type": "code",
      "source": [
        "# Get clustering data raw url from this repo (https://github.com/scikit-learn/scikit-learn/blob/main/sklearn/datasets/data/iris.csv)\n",
        "\n",
        "df = pd.read_csv(\n",
        "    '',\n",
        "    sep=',',\n",
        "    names=['sepal length (cm)', 'sepal width (cm)', 'petal length (cm)', 'petal width (cm)', 'species'],\n",
        "    skiprows=1\n",
        ")"
      ],
      "metadata": {
        "id": "VTv_PiIr1vJo"
      },
      "execution_count": 15,
      "outputs": []
    },
    {
      "cell_type": "code",
      "source": [
        "# Display the first few rows of the DataFrame\n",
        "df.head()\n",
        "\n",
        "# Display \"all\" (but middle rows may be skipped for large datasets)\n",
        "df"
      ],
      "metadata": {
        "collapsed": true,
        "id": "7VBK4HUJ3RxP"
      },
      "execution_count": null,
      "outputs": []
    },
    {
      "cell_type": "code",
      "source": [
        "# Check the number of rows and columns, i.e. shape\n"
      ],
      "metadata": {
        "id": "HB24RQyr3kti"
      },
      "execution_count": null,
      "outputs": []
    },
    {
      "cell_type": "code",
      "source": [
        "# Wrangle column names for convenience\n",
        "df = df.rename(columns = {'sepal length (cm)':'sl',\n",
        "                     'sepal width (cm)':'sw',\n",
        "                     'petal length (cm)':'pl',\n",
        "                     'petal width (cm)':'pw',\n",
        "                     })\n",
        "\n",
        "df"
      ],
      "metadata": {
        "id": "gziupVqBBOBy"
      },
      "execution_count": null,
      "outputs": []
    },
    {
      "cell_type": "code",
      "source": [
        "# Make a plot to see if sepal length and width are related\n",
        "\n",
        "plt.figure()\n",
        "plt.title('Relationship of sepal dimensions')\n",
        "plt.scatter(df.sl, df.sw)\n",
        "plt.xlabel('length (cm)')\n",
        "plt.ylabel('width (cm)')\n",
        "plt.show()\n"
      ],
      "metadata": {
        "id": "iEiuICzZAmC6"
      },
      "execution_count": null,
      "outputs": []
    },
    {
      "cell_type": "code",
      "source": [
        "# implement one iteration of K-means by hand\n",
        "# pre-existing knowledge: there are three types of irises in the dataset\n",
        "\n",
        "# set three centroids, where I think the cluster centers might be\n",
        "c1 = np.array([5, 3.5])\n",
        "c2 = np.array([5.5, 2.5])\n",
        "c3 = np.array([7, 3])"
      ],
      "metadata": {
        "id": "yNoVJwtVCX1x"
      },
      "execution_count": 72,
      "outputs": []
    },
    {
      "cell_type": "code",
      "source": [
        "# Visualize the centroids on the plot\n",
        "\n",
        "plt.figure()\n",
        "plt.title('Relationship of sepal dimensions - Seeded Centroids')\n",
        "plt.scatter(df.sl, df.sw)\n",
        "plt.xlabel('length (cm)')\n",
        "plt.ylabel('width (cm)')\n",
        "plt.scatter([c1[0], c2[0], c3[0]], [c1[1], c2[1], c3[1]], marker='o', s=200, color='r')\n",
        "plt.legend(['data', 'centroid guess'])\n",
        "plt.show()"
      ],
      "metadata": {
        "id": "0s8g6mJUDK_J"
      },
      "execution_count": null,
      "outputs": []
    },
    {
      "cell_type": "code",
      "source": [
        "# compute the distance of EVERY data point to EVERY centroid\n",
        "# this is the euclidean distance formula\n",
        "\n",
        "df['dc1'] = ((df.sl - c1[0]) ** 2 + (df.sw - c1[1]) ** 2) ** 0.5"
      ],
      "metadata": {
        "id": "cSXKoOiMEGMF"
      },
      "execution_count": 74,
      "outputs": []
    },
    {
      "cell_type": "code",
      "source": [
        "df['dc2'] = ((df.sl - c2[0]) ** 2 + (df.sw - c2[1]) ** 2) ** 0.5\n",
        "df['dc3'] = ((df.sl - c3[0]) ** 2 + (df.sw - c3[1]) ** 2) ** 0.5"
      ],
      "metadata": {
        "id": "DJKisfP9FS_3"
      },
      "execution_count": 75,
      "outputs": []
    },
    {
      "cell_type": "code",
      "source": [
        "# for every point, identify which distance is smallest\n",
        "df['smallest'] = np.min(df.loc[:,['dc1', 'dc2', 'dc3']], axis=1)"
      ],
      "metadata": {
        "id": "PcnSY5IPGQvT"
      },
      "execution_count": 76,
      "outputs": []
    },
    {
      "cell_type": "code",
      "source": [
        "# check that .loc was used correctly\n",
        "\n",
        "df.loc[:,['dc1', 'dc2', 'dc3']]"
      ],
      "metadata": {
        "id": "4E90VvAKHiSM"
      },
      "execution_count": null,
      "outputs": []
    },
    {
      "cell_type": "code",
      "source": [
        "df.smallest"
      ],
      "metadata": {
        "id": "KRmlP-ErGnMo"
      },
      "execution_count": null,
      "outputs": []
    },
    {
      "cell_type": "code",
      "source": [
        "# use the argmin numpy function to also get the column that contained the smallest value\n",
        "\n",
        "df['cmin'] = np.argmin(df.loc[:,['dc1', 'dc2', 'dc3']], axis=1)"
      ],
      "metadata": {
        "id": "CY2eDY4-IKhv"
      },
      "execution_count": 79,
      "outputs": []
    },
    {
      "cell_type": "code",
      "source": [
        "df.cmin"
      ],
      "metadata": {
        "id": "vBTIgc8cIbZl"
      },
      "execution_count": null,
      "outputs": []
    },
    {
      "cell_type": "code",
      "source": [
        "# use the cmin column to visualize which data got assigned to which cluster\n",
        "\n",
        "plt.figure()\n",
        "plt.title('Relationship of sepal dimensions - Cluser Assignment')\n",
        "\n",
        "plt.scatter(df.sl[df.cmin == 0], df.sw[df.cmin == 0]) # layer 1 for first cluster\n",
        "plt.scatter(df.sl[df.cmin == 1], df.sw[df.cmin == 1]) # layer 2 for second cluster\n",
        "plt.scatter(df.sl[df.cmin == 2], df.sw[df.cmin == 2]) # layer 3 for second cluster\n",
        "plt.scatter([c1[0], c2[0], c3[0]], [c1[1], c2[1], c3[1]], marker='o', s=200) # layer 4\n",
        "\n",
        "plt.xlabel('length (cm)')\n",
        "plt.ylabel('width (cm)')\n",
        "\n",
        "plt.legend(['cluster 1', 'cluster 2', 'cluster 3', 'centroid guess'])\n",
        "plt.show()"
      ],
      "metadata": {
        "id": "eQe_oTQ7Ie-y"
      },
      "execution_count": null,
      "outputs": []
    },
    {
      "cell_type": "code",
      "source": [
        "# check to see if the centroid coordinates need to be adjusted\n",
        "# they should be moved to the mean value of the cluster\n",
        "\n",
        "c1new = np.array([df.sl[df.cmin == 0].mean(), df.sw[df.cmin == 0].mean()])\n",
        "c2new = np.array([df.sl[df.cmin == 1].mean(), df.sw[df.cmin == 1].mean()])\n",
        "c3new = np.array([df.sl[df.cmin == 2].mean(), df.sw[df.cmin == 2].mean()])\n",
        "\n",
        "print(c1, c1new)\n",
        "print(c2, c2new)\n",
        "print(c3, c3new)"
      ],
      "metadata": {
        "id": "29w82DKbJ37E"
      },
      "execution_count": null,
      "outputs": []
    },
    {
      "cell_type": "code",
      "source": [
        "print(\"c1 is off by: \", c1 - c1new)\n",
        "print(\"c2 is off by: \", c2 - c2new)\n",
        "print(\"c3 is off by: \", c3 - c3new)"
      ],
      "metadata": {
        "id": "STUmNwgcK-EY"
      },
      "execution_count": null,
      "outputs": []
    },
    {
      "cell_type": "code",
      "source": [
        "# if the centroids moved more than a very very very small amount, then we need to\n",
        "# rerun the algorithm using the new centroids.\n",
        "# this process repeats until the centroids move only a tiny amount, 0.0001, for example\n",
        "# in both the x and y position"
      ],
      "metadata": {
        "id": "xWZROS9lKj28"
      },
      "execution_count": null,
      "outputs": []
    },
    {
      "cell_type": "code",
      "source": [
        "# use scipy to do the same thing\n",
        "# https://docs.scipy.org/doc/scipy/reference/generated/scipy.cluster.vq.kmeans.html\n",
        "\n",
        "centroids = scipy.cluster.vq.kmeans(df.loc[:, ['sl', 'sw']], k_or_guess=3)\n"
      ],
      "metadata": {
        "id": "UXZJkikzA_ha"
      },
      "execution_count": 92,
      "outputs": []
    },
    {
      "cell_type": "code",
      "source": [
        "centroids"
      ],
      "metadata": {
        "id": "mHu6rys1Vi3r"
      },
      "execution_count": null,
      "outputs": []
    },
    {
      "cell_type": "code",
      "source": [
        "# let's see if the cluster coordinates change if four dimensions are used\n",
        "# i.e. use sl, sw, pl, and pw to get centroids\n",
        "\n",
        "centroids4 = scipy.cluster.vq.kmeans(df.loc[:, ['sl', 'sw', 'pl', 'pw']], k_or_guess=3)"
      ],
      "metadata": {
        "id": "ASv-FsKSV2XH"
      },
      "execution_count": 96,
      "outputs": []
    },
    {
      "cell_type": "code",
      "source": [
        "centroids4"
      ],
      "metadata": {
        "id": "L3lqNWJOWGCO"
      },
      "execution_count": null,
      "outputs": []
    },
    {
      "cell_type": "code",
      "source": [
        "# GOAL: visualize the difference in 2D\n",
        "# This means figuring out which data belong to each centroid in centroids\n",
        "# Then figure out which data belong to each centroid in centroids4\n",
        "# Then plotting\n",
        "\n",
        "df_centroids = pd.DataFrame()\n",
        "df_centroids['dc1'] = ((df.sl - centroids[0,0]) ** 2 + (df.sw - centroids[0,1]) ** 2) ** 0.5\n",
        "df_centroids['dc2'] = ((df.sl - centroids[1,0]) ** 2 + (df.sw - centroids[1,1]) ** 2) ** 0.5\n",
        "df_centroids['dc3'] = ((df.sl - centroids[2,0]) ** 2 + (df.sw - centroids[2,1]) ** 2) ** 0.5\n",
        "\n",
        "df_centroids['cmin'] = np.argmin(df_centroids, axis=1)\n",
        "df_centroids"
      ],
      "metadata": {
        "id": "L81DacP6WOJz"
      },
      "execution_count": null,
      "outputs": []
    },
    {
      "cell_type": "code",
      "source": [
        "# TODO: copy and modify the code above to figure out which data belong to which cluster when the centroids4 are used\n",
        "\n",
        "df_centroids4 = pd.DataFrame()\n"
      ],
      "metadata": {
        "id": "1RfglfXMbuUq"
      },
      "execution_count": null,
      "outputs": []
    },
    {
      "cell_type": "code",
      "source": [
        "plt.figure(figsize=[12,4])\n",
        "\n",
        "plt.subplot(1,2,1)\n",
        "plt.title('K-Means results with 2 variables')\n",
        "plt.scatter(df.sl[df_centroids.cmin == 0], df.sw[df_centroids.cmin == 0]) # layer 1 for first cluster\n",
        "plt.scatter(df.sl[df_centroids.cmin == 1], df.sw[df_centroids.cmin == 1]) # layer 2 for second cluster\n",
        "plt.scatter(df.sl[df_centroids.cmin == 2], df.sw[df_centroids.cmin == 2]) # layer 3 for second cluster\n",
        "plt.scatter([centroids[0,0], centroids[1,0], centroids[2,0]], [centroids[0,1], centroids[1,1], centroids[2,1]], marker='o', s=200) # layer 4\n",
        "plt.xlabel('length (cm)')\n",
        "plt.ylabel('width (cm)')\n",
        "plt.legend(['cluster 1', 'cluster 2', 'cluster 3', 'centroids'])\n",
        "\n",
        "plt.subplot(1,2,2)\n",
        "plt.title('K-Means results with 4 variables')\n",
        "# TODO: layer 1 for first cluster\n",
        "# TODO: layer 2 for second cluster\n",
        "# TODO: layer 3 for third cluster\n",
        "# TODO: layer 4 for centroids4\n",
        "# TODO: xlabel\n",
        "# TODO: ylabel\n",
        "# TODO: legend\n",
        "\n",
        "plt.show()"
      ],
      "metadata": {
        "id": "ly_6PQcvavAK"
      },
      "execution_count": null,
      "outputs": []
    },
    {
      "cell_type": "code",
      "source": [
        "# plot the original classes\n",
        "\n",
        "plt.figure()\n",
        "plt.title('Relationship of sepal dimensions - Real Classes')\n",
        "\n",
        "plt.scatter(df.sl[df.species == 0], df.sw[df.species == 0]) # layer 1 for first cluster\n",
        "plt.scatter(df.sl[df.species == 1], df.sw[df.species == 1]) # layer 2 for second cluster\n",
        "plt.scatter(df.sl[df.species == 2], df.sw[df.species == 2]) # layer 3 for second cluster\n",
        "\n",
        "plt.xlabel('length (cm)')\n",
        "plt.ylabel('width (cm)')\n",
        "\n",
        "plt.show()"
      ],
      "metadata": {
        "id": "6ruc58ufX1GY"
      },
      "execution_count": null,
      "outputs": []
    },
    {
      "cell_type": "code",
      "source": [
        "# TODO: how might you figure out which method was better, based on the figures about?\n",
        "# TODO: Post your idea to discord"
      ],
      "metadata": {
        "id": "14A9_WGDdQKN"
      },
      "execution_count": null,
      "outputs": []
    },
    {
      "cell_type": "markdown",
      "source": [
        "## Discord Post\n",
        "\n",
        "TODO: Don't forget to ask questions in Discord. One Discord post per week is required."
      ],
      "metadata": {
        "id": "UxfIj1yGz0WS"
      }
    },
    {
      "cell_type": "markdown",
      "source": [
        "## Submit this completed activity to your activities repository"
      ],
      "metadata": {
        "id": "A60p2b7F0L8r"
      }
    }
  ],
  "metadata": {
    "colab": {
      "provenance": []
    },
    "kernelspec": {
      "display_name": "Python 3",
      "name": "python3"
    },
    "language_info": {
      "name": "python"
    }
  },
  "nbformat": 4,
  "nbformat_minor": 0
}