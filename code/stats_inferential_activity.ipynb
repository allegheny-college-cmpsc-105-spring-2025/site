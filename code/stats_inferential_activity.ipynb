{
  "nbformat": 4,
  "nbformat_minor": 0,
  "metadata": {
    "colab": {
      "provenance": []
    },
    "kernelspec": {
      "name": "python3",
      "display_name": "Python 3"
    },
    "language_info": {
      "name": "python"
    }
  },
  "cells": [
    {
      "cell_type": "raw",
      "metadata": {
        "id": "RtyQekfm65B4"
      },
      "source": [
        "---\n",
        "format:\n",
        "  html:\n",
        "    code-fold: true\n",
        "jupyter: python3\n",
        "---"
      ]
    },
    {
      "cell_type": "markdown",
      "metadata": {
        "id": "I1D7859rdjaT"
      },
      "source": [
        "[![Open In Colab](https://colab.research.google.com/assets/colab-badge.svg)](https://githubtocolab.com/allegheny-college-cmpsc-105-spring-2025/site/blob/main/code/stats_inferential_activity.ipynb)"
      ]
    },
    {
      "cell_type": "markdown",
      "source": [
        "For a normal distribution, what is the probability of selecting a z-score that is larger than than $z = 1.96$?\n",
        "\n",
        "TODO: Write python code that can simulate a standard normal distribution and the unit normal table to find the answer"
      ],
      "metadata": {
        "id": "_KJRavEXcoUv"
      }
    },
    {
      "cell_type": "code",
      "source": [
        "import scipy\n",
        "\n",
        "# TODO: import pd, np, and matplotlib libraries"
      ],
      "metadata": {
        "id": "f6BtTYQfbtGs"
      },
      "execution_count": 20,
      "outputs": []
    },
    {
      "cell_type": "code",
      "source": [
        "# TODO: write down the mean of a standard normal distribution\n",
        "# TODO: write down the std of a standard normal distribution\n",
        "\n",
        "# TODO: use a function out of numpy called random.normal, passing in the mean, std, and how many samples to draw\n",
        "# https://numpy.org/doc/stable/reference/random/generated/numpy.random.normal.html\n",
        "\n",
        "# TODO: convert to dataframe"
      ],
      "metadata": {
        "id": "LNu_yXgcd5nc"
      },
      "execution_count": null,
      "outputs": []
    },
    {
      "cell_type": "code",
      "source": [
        "# TODO: sanity check the mean\n",
        "# https://pandas.pydata.org/docs/reference/api/pandas.DataFrame.mean.html\n",
        "# df.mean(axis=1)"
      ],
      "metadata": {
        "id": "u9dFf6XWoZSK"
      },
      "execution_count": null,
      "outputs": []
    },
    {
      "cell_type": "code",
      "source": [
        "# TODO: sanity check the standard deviation\n",
        "# https://pandas.pydata.org/docs/reference/api/pandas.DataFrame.std.html\n",
        "# df.std()"
      ],
      "metadata": {
        "id": "FQHlsc8aoGcN"
      },
      "execution_count": null,
      "outputs": []
    },
    {
      "cell_type": "code",
      "source": [
        "# TODO: use scipy stats library to call a function called percentileofscore\n",
        "# this function operates on data frames\n",
        "# it finds the quantile of the specified z-value with tow parameters, the df and z-value\n"
      ],
      "metadata": {
        "id": "owcZSsmFj-Ae"
      },
      "execution_count": null,
      "outputs": []
    },
    {
      "cell_type": "code",
      "source": [
        "# TODO: Sanity check by re-computing the z for a given proportion\n",
        "# Use the numpy quantile function to pass in a particular quantile (or area) for\n",
        "# which we would like to know the z score boundary\n",
        "# https://numpy.org/doc/stable/reference/generated/numpy.quantile.html\n",
        "# parameters are the data and the quantile\n",
        "\n",
        "# TODO: what is the difference between quantile and percentile?"
      ],
      "metadata": {
        "id": "L3ONrm4xhzzJ"
      },
      "execution_count": null,
      "outputs": []
    },
    {
      "cell_type": "code",
      "source": [
        "# TODO: redefine the quantile in terms of an alpha/2"
      ],
      "metadata": {
        "id": "wVnPuixDijMH"
      },
      "execution_count": null,
      "outputs": []
    },
    {
      "cell_type": "code",
      "source": [
        "# TODO: plot the random normal data!\n",
        "# NOTE: the density parameter will normalize the y axis\n",
        "\n",
        "\n",
        "# TODO: add a vertical line on your figure to mark the critical z-value"
      ],
      "metadata": {
        "id": "evsbD8HdeV1r"
      },
      "execution_count": null,
      "outputs": []
    },
    {
      "cell_type": "markdown",
      "source": [
        "Work through this problem and verify everything in code. (Gravetter & Wallnau, Example 7.3)\n",
        "\n",
        "> Once again, the distribution of SAT scores forms a normal distribution with a mean\n",
        "of $\\mu = 500$ and SEM = 20. For this example, we are going to\n",
        "determine what kind of sample mean is likely to be obtained as the average SAT score\n",
        "for a random sample of N = 25 students ($\\sigma = 100$). Specifically, we determine the exact range of\n",
        "values that is expected for the sample mean 80% of the time.\n",
        "Our goal is to find the range of values that make\n",
        "up the middle 80% of the distribution. Because the distribution is normal, we can use\n",
        "the unit normal table. First, the 80% in the middle is split in half, with 40% (0.4000)\n",
        "on each side of the mean. Looking up 0.4000 in column D (the proportion between the\n",
        "mean and z), we find a corresponding z-score of z = 1.28. Thus, the z-score boundaries for the middle 80% are z = $\\pm 1.28$. By definition, a z-score of 1.28\n",
        "represents a location that is 1.28 standard deviations (or standard errors) from the\n",
        "mean. With a standard error of 20 points, the distance from the mean is 1.28 * (20) = 25.6 points. The mean is $\\mu = 500$, so a distance of 25.6 in both directions produces a\n",
        "range of values from 474.4 to 525.6.\n",
        "Thus, 80% of all the possible sample means are contained in a range between 474.4 and 525.6. If we select a sample of N = 25 students, we can be 80% confident that the\n",
        "mean SAT score for the sample will be in this range."
      ],
      "metadata": {
        "id": "IoLZXLJ4t7vS"
      }
    }
  ]
}