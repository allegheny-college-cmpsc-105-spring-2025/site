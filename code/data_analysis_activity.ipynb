{
  "nbformat": 4,
  "nbformat_minor": 0,
  "metadata": {
    "colab": {
      "provenance": []
    },
    "kernelspec": {
      "name": "python3",
      "display_name": "Python 3"
    },
    "language_info": {
      "name": "python"
    }
  },
  "cells": [
    {
      "cell_type": "raw",
      "metadata": {
        "id": "RtyQekfm65B4"
      },
      "source": [
        "---\n",
        "format:\n",
        "  html:\n",
        "    code-fold: true\n",
        "jupyter: python3\n",
        "---"
      ]
    },
    {
      "cell_type": "markdown",
      "metadata": {
        "id": "I1D7859rdjaT"
      },
      "source": [
        "[![Open In Colab](https://colab.research.google.com/assets/colab-badge.svg)](https://githubtocolab.com/allegheny-college-cmpsc-105-spring-2025/site/blob/main/code/data_analysis_activity.ipynb)"
      ]
    },
    {
      "cell_type": "markdown",
      "source": [
        "## Analyses of one continuous variable"
      ],
      "metadata": {
        "id": "_KJRavEXcoUv"
      }
    },
    {
      "cell_type": "code",
      "source": [
        "import numpy as np\n",
        "import matplotlib.pyplot as plt\n",
        "import scipy\n",
        "import pandas as pd"
      ],
      "metadata": {
        "id": "f6BtTYQfbtGs"
      },
      "execution_count": 1,
      "outputs": []
    },
    {
      "cell_type": "code",
      "source": [
        "data = {\n",
        "    'y': [1.1, 2.2, 3.3, 4.4, 5.5, 6.6, 6, 7.1, 9.9, 10],\n",
        "    'category' : ['control', 'control', 'control', 'control', 'control', 'test', 'test', 'test', 'test', 'test'],\n",
        "}\n",
        "\n",
        "df = pd.DataFrame(data)"
      ],
      "metadata": {
        "id": "2zXooVogK3lR"
      },
      "execution_count": 27,
      "outputs": []
    },
    {
      "cell_type": "code",
      "source": [
        "df"
      ],
      "metadata": {
        "id": "B6Us0PwYOExy"
      },
      "execution_count": null,
      "outputs": []
    },
    {
      "cell_type": "code",
      "source": [
        "y_bar = df['y'].mean() # sample mean\n",
        "SEM = df['y'].std() / (len(df) ** 0.5) # standard error of the mean\n",
        "score = ( y_bar - 0 ) / SEM\n",
        "z_crit  = 1.96 # for 95% boundary with two tails, recall z = 1.96\n",
        "\n",
        "print(score)\n",
        "print('probablity of this score is...?')"
      ],
      "metadata": {
        "id": "NzgpVc2iKnR5"
      },
      "execution_count": null,
      "outputs": []
    },
    {
      "cell_type": "code",
      "source": [
        "score, probability = scipy.stats.ttest_1samp(df['y'], 0)\n",
        "\n",
        "print(score)\n",
        "print(probability)"
      ],
      "metadata": {
        "id": "NzI1AW0nNNgw"
      },
      "execution_count": null,
      "outputs": []
    },
    {
      "cell_type": "code",
      "source": [
        "# Examine the Data\n",
        "\n",
        "plt.figure()\n",
        "plt.plot(df['y'])\n",
        "plt.ylabel('y')\n",
        "plt.xlabel('observation number (arbitrary)')\n",
        "plt.show()"
      ],
      "metadata": {
        "id": "Cqs6mEr9N1Rh"
      },
      "execution_count": null,
      "outputs": []
    },
    {
      "cell_type": "code",
      "source": [
        "# split the data, i.e. filter\n",
        "\n",
        "plt.figure()\n",
        "plt.plot(df['y'][df['category'] =='control'])\n",
        "plt.plot(df['y'][df['category'] =='test'])\n",
        "plt.legend({'test', 'control'})\n",
        "plt.ylabel('y')\n",
        "plt.xlabel('observation number (arbitrary)')\n",
        "plt.show()"
      ],
      "metadata": {
        "id": "iFTm4QLyOvFh"
      },
      "execution_count": null,
      "outputs": []
    },
    {
      "cell_type": "code",
      "source": [
        "# Find the average value per category\n",
        "\n",
        "plt.figure()\n",
        "plt.bar([1,2], [df['y'][df['category'] =='control'].mean(), df['y'][df['category'] =='test'].mean()])\n",
        "plt.ylabel('y')\n",
        "plt.xticks([1,2], ['control', 'mean'])\n",
        "plt.title('Average y per Category')\n",
        "plt.show()"
      ],
      "metadata": {
        "id": "AtLv3U_sPF9q"
      },
      "execution_count": null,
      "outputs": []
    },
    {
      "cell_type": "code",
      "source": [
        "# Test the means\n",
        "\n",
        "score, probability = scipy.stats.ttest_ind(\n",
        "    df['y'][df['category'] =='control'],\n",
        "    df['y'][df['category'] =='test'])\n",
        "\n",
        "print(score)\n",
        "print(probability)"
      ],
      "metadata": {
        "id": "jmstL1EbPcK5"
      },
      "execution_count": null,
      "outputs": []
    },
    {
      "cell_type": "markdown",
      "source": [
        "## Analyses of two continuous variables"
      ],
      "metadata": {
        "id": "6n7ZHGWwP3h_"
      }
    },
    {
      "cell_type": "code",
      "source": [
        "df['x'] = np.array([1, 2, 3, 4, 5, 6, 7, 8, 9, 10])\n",
        "df"
      ],
      "metadata": {
        "id": "XlUMHqifP7LH"
      },
      "execution_count": null,
      "outputs": []
    },
    {
      "cell_type": "code",
      "source": [
        "plt.figure()\n",
        "plt.scatter(df['x'],df['y'])\n",
        "plt.xlabel('x')\n",
        "plt.ylabel('y')\n",
        "plt.show()"
      ],
      "metadata": {
        "id": "EKl_6vS2QD9a"
      },
      "execution_count": null,
      "outputs": []
    },
    {
      "cell_type": "code",
      "source": [
        "# Compute pearson correlation\n",
        "\n",
        "numerator = np.sum((df.x - df.x.mean()) * (df.y - df.y.mean()))\n",
        "denominator = (sum( (df.x - df.x.mean())**2 ) * sum( (df.y - df.y.mean())**2 )) ** 0.5\n",
        "\n",
        "r = numerator / denominator\n",
        "print(r)"
      ],
      "metadata": {
        "id": "mOQHcYAdQMzJ"
      },
      "execution_count": null,
      "outputs": []
    },
    {
      "cell_type": "code",
      "source": [
        "score, probability = scipy.stats.pearsonr(df.x, df.y)\n",
        "\n",
        "print(score)\n",
        "print(probability)"
      ],
      "metadata": {
        "id": "7vOU5FRwQj1o"
      },
      "execution_count": null,
      "outputs": []
    },
    {
      "cell_type": "markdown",
      "source": [
        "## Questions"
      ],
      "metadata": {
        "id": "GmIvn_r8RFFx"
      }
    },
    {
      "cell_type": "code",
      "source": [
        "# TODO: what library contains pre-coded tests?\n",
        "# TODO: why is filtering important for analysis?\n",
        "# TODO: explore the code to confirm"
      ],
      "metadata": {
        "id": "nnhcOmCyQsD2"
      },
      "execution_count": null,
      "outputs": []
    }
  ]
}