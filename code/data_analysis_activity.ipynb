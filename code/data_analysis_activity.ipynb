{
  "cells": [
    {
      "cell_type": "raw",
      "metadata": {
        "id": "RtyQekfm65B4"
      },
      "source": [
        "---\n",
        "format:\n",
        "  html:\n",
        "    code-fold: true\n",
        "jupyter: python3\n",
        "---"
      ]
    },
    {
      "cell_type": "markdown",
      "metadata": {
        "id": "I1D7859rdjaT"
      },
      "source": [
        "[![Open In Colab](https://colab.research.google.com/assets/colab-badge.svg)](https://githubtocolab.com/allegheny-college-cmpsc-105-spring-2025/site/blob/main/code/data_analysis_activity.ipynb)"
      ]
    },
    {
      "cell_type": "markdown",
      "metadata": {
        "id": "_KJRavEXcoUv"
      },
      "source": [
        "## Analyses of one continuous variable"
      ]
    },
    {
      "cell_type": "code",
      "execution_count": 1,
      "metadata": {
        "id": "f6BtTYQfbtGs"
      },
      "outputs": [],
      "source": [
        "import numpy as np\n",
        "import matplotlib.pyplot as plt\n",
        "import scipy\n",
        "import pandas as pd"
      ]
    },
    {
      "cell_type": "code",
      "execution_count": 27,
      "metadata": {
        "id": "2zXooVogK3lR"
      },
      "outputs": [],
      "source": [
        "data = {\n",
        "    'y': [1.1, 2.2, 3.3, 4.4, 5.5, 6.6, 6, 7.1, 9.9, 10],\n",
        "    'category' : ['control', 'control', 'control', 'control', 'control', 'test', 'test', 'test', 'test', 'test'],\n",
        "}\n",
        "\n",
        "df = pd.DataFrame(data)"
      ]
    },
    {
      "cell_type": "markdown",
      "metadata": {},
      "source": [
        "- TODO: In the variable explorer (`{x}`), what Shape does the variable `df` have? Write your response here:"
      ]
    },
    {
      "cell_type": "code",
      "execution_count": null,
      "metadata": {
        "id": "B6Us0PwYOExy"
      },
      "outputs": [],
      "source": [
        "df"
      ]
    },
    {
      "cell_type": "code",
      "execution_count": null,
      "metadata": {
        "id": "NzgpVc2iKnR5"
      },
      "outputs": [],
      "source": [
        "y_bar = df['y'].mean() # sample mean\n",
        "SEM = df['y'].std() / (len(df) ** 0.5) # standard error of the mean\n",
        "score = ( y_bar - 0 ) / SEM\n",
        "z_crit  = 1.96 # for 95% boundary with two tails, recall z = 1.96\n",
        "\n",
        "print(score)\n",
        "print('probablity of this score is...?')"
      ]
    },
    {
      "cell_type": "code",
      "execution_count": null,
      "metadata": {
        "id": "NzI1AW0nNNgw"
      },
      "outputs": [],
      "source": [
        "score, probability = scipy.stats.ttest_1samp(df['y'], 0)\n",
        "\n",
        "print(score)\n",
        "print(probability)"
      ]
    },
    {
      "cell_type": "code",
      "execution_count": null,
      "metadata": {
        "id": "Cqs6mEr9N1Rh"
      },
      "outputs": [],
      "source": [
        "# Examine the Data\n",
        "\n",
        "plt.figure()\n",
        "plt.plot(df['y'])\n",
        "plt.ylabel('y')\n",
        "plt.xlabel('observation number (arbitrary)')\n",
        "plt.show()"
      ]
    },
    {
      "cell_type": "code",
      "execution_count": null,
      "metadata": {
        "id": "iFTm4QLyOvFh"
      },
      "outputs": [],
      "source": [
        "# split the data, i.e. filter\n",
        "\n",
        "plt.figure()\n",
        "plt.plot(df['y'][df['category'] =='control'])\n",
        "plt.plot(df['y'][df['category'] =='test'])\n",
        "plt.legend({'test', 'control'})\n",
        "plt.ylabel('y')\n",
        "plt.xlabel('observation number (arbitrary)')\n",
        "plt.show()"
      ]
    },
    {
      "cell_type": "code",
      "execution_count": null,
      "metadata": {
        "id": "AtLv3U_sPF9q"
      },
      "outputs": [],
      "source": [
        "# Find the average value per category\n",
        "\n",
        "plt.figure()\n",
        "plt.bar([1,2], [df['y'][df['category'] =='control'].mean(), df['y'][df['category'] =='test'].mean()])\n",
        "plt.ylabel('y')\n",
        "plt.xticks([1,2], ['control', 'mean'])\n",
        "plt.title('Average y per Category')\n",
        "plt.show()"
      ]
    },
    {
      "cell_type": "code",
      "execution_count": null,
      "metadata": {
        "id": "jmstL1EbPcK5"
      },
      "outputs": [],
      "source": [
        "# Test the means\n",
        "\n",
        "score, probability = scipy.stats.ttest_ind(\n",
        "    df['y'][df['category'] =='control'],\n",
        "    df['y'][df['category'] =='test'])\n",
        "\n",
        "print(score)\n",
        "print(probability)"
      ]
    },
    {
      "cell_type": "markdown",
      "metadata": {
        "id": "6n7ZHGWwP3h_"
      },
      "source": [
        "## Analyses of two continuous variables"
      ]
    },
    {
      "cell_type": "code",
      "execution_count": null,
      "metadata": {
        "id": "XlUMHqifP7LH"
      },
      "outputs": [],
      "source": [
        "df['x'] = np.array([1, 2, 3, 4, 5, 6, 7, 8, 9, 10])\n",
        "df"
      ]
    },
    {
      "cell_type": "code",
      "execution_count": null,
      "metadata": {
        "id": "EKl_6vS2QD9a"
      },
      "outputs": [],
      "source": [
        "plt.figure()\n",
        "plt.scatter(df['x'],df['y'])\n",
        "plt.xlabel('x')\n",
        "plt.ylabel('y')\n",
        "plt.show()"
      ]
    },
    {
      "cell_type": "code",
      "execution_count": null,
      "metadata": {
        "id": "mOQHcYAdQMzJ"
      },
      "outputs": [],
      "source": [
        "# Compute pearson correlation\n",
        "\n",
        "numerator = np.sum((df.x - df.x.mean()) * (df.y - df.y.mean()))\n",
        "denominator = (sum( (df.x - df.x.mean())**2 ) * sum( (df.y - df.y.mean())**2 )) ** 0.5\n",
        "\n",
        "r = numerator / denominator\n",
        "print(r)"
      ]
    },
    {
      "cell_type": "code",
      "execution_count": null,
      "metadata": {
        "id": "7vOU5FRwQj1o"
      },
      "outputs": [],
      "source": [
        "score, probability = scipy.stats.pearsonr(df.x, df.y)\n",
        "\n",
        "print(score)\n",
        "print(probability)"
      ]
    },
    {
      "cell_type": "markdown",
      "metadata": {
        "id": "GmIvn_r8RFFx"
      },
      "source": [
        "## Questions"
      ]
    },
    {
      "cell_type": "code",
      "execution_count": null,
      "metadata": {
        "id": "nnhcOmCyQsD2"
      },
      "outputs": [],
      "source": [
        "# TODO: what library contains pre-coded tests?\n",
        "# TODO: why is filtering important for analysis?\n",
        "# TODO: explore the code to confirm"
      ]
    }
  ],
  "metadata": {
    "colab": {
      "provenance": []
    },
    "kernelspec": {
      "display_name": "Python 3",
      "name": "python3"
    },
    "language_info": {
      "name": "python"
    }
  },
  "nbformat": 4,
  "nbformat_minor": 0
}
