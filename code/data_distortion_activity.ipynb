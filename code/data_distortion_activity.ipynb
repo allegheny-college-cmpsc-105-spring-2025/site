{
  "cells": [
    {
      "cell_type": "raw",
      "metadata": {
        "id": "RtyQekfm65B4"
      },
      "source": [
        "---\n",
        "format:\n",
        "  html:\n",
        "    code-fold: true\n",
        "jupyter: python3\n",
        "---"
      ]
    },
    {
      "cell_type": "markdown",
      "metadata": {
        "id": "I1D7859rdjaT"
      },
      "source": [
        "[![Open In Colab](https://colab.research.google.com/assets/colab-badge.svg)](https://githubtocolab.com/allegheny-college-cmpsc-105-spring-2025/site/blob/main/code/data_distortion_activity.ipynb)"
      ]
    },
    {
      "cell_type": "markdown",
      "metadata": {
        "id": "Gd-KDtC5Inf9"
      },
      "source": [
        "# Class Activity"
      ]
    },
    {
      "cell_type": "markdown",
      "metadata": {
        "id": "bwUV0i9UIt1e"
      },
      "source": [
        "## Goals\n",
        "\n",
        "1. Work with colleagues at your table\n",
        "2. Look at code that can distort data displays\n",
        "3. Modify code to distort data displays\n",
        "4. Describe how data distortion can imply information that was not in raw data"
      ]
    },
    {
      "cell_type": "code",
      "execution_count": 2,
      "metadata": {
        "id": "ceMTYBIDgQl_"
      },
      "outputs": [],
      "source": [
        "# TODO All Tables: Run this code cell that makes pre-existing tools available for data exploration\n",
        "\n",
        "import pandas as pd\n",
        "import matplotlib.pyplot as plt"
      ]
    },
    {
      "cell_type": "code",
      "execution_count": null,
      "metadata": {
        "collapsed": true,
        "id": "O0gbu0yedSC9"
      },
      "outputs": [],
      "source": [
        "# TODO All Tables: Run this code cell that creates a pandas dataframe\n",
        "\n",
        "df = pd.read_csv(\n",
        "    'https://raw.githubusercontent.com/allegheny-college-cmpsc-105-spring-2025/site/main/data/data-distortion-bls-LNS14000000.csv',\n",
        "    sep=',',\n",
        "    names = ['Timepoint', 'Year', 'Month', 'Label', 'Value'],\n",
        "    skiprows=1\n",
        ")\n",
        "\n",
        "print(df.head()) # Display the first few rows of the DataFrame"
      ]
    },
    {
      "cell_type": "code",
      "execution_count": null,
      "metadata": {},
      "outputs": [],
      "source": [
        "- TODO: In the variable explorer (`{x}`), what Shape does the variable `df` have? Write your response here:"
      ]
    },
    {
      "cell_type": "markdown",
      "metadata": {
        "id": "v3aE4ZCn5MhB"
      },
      "source": [
        "## Table 1"
      ]
    },
    {
      "cell_type": "code",
      "execution_count": null,
      "metadata": {
        "id": "WDiJVNz6n8ma"
      },
      "outputs": [],
      "source": [
        "# TODO: Run this code cell that creates a line graph of the data\n",
        "\n",
        "# Assuming df is already created in the previous code cell\n",
        "plt.close('all')\n",
        "\n",
        "plt.figure(figsize=(12, 4))\n",
        "plt.plot(df['Timepoint'], df['Value'], '*-')\n",
        "plt.xticks(df['Timepoint'][::12], df['Label'][::12], rotation=0)\n",
        "plt.xlabel('Timepoint (Years)')\n",
        "plt.ylabel('Unemployment Rate (%)')\n",
        "plt.title('Unemployment Rate Year to Year')\n",
        "plt.grid(True)\n",
        "plt.xlim(20,40)\n",
        "plt.ylim(3,8)\n",
        "plt.show()"
      ]
    },
    {
      "cell_type": "markdown",
      "metadata": {
        "id": "EV-55pyz3AC-"
      },
      "source": [
        "- TODO: What does this figure show?"
      ]
    },
    {
      "cell_type": "markdown",
      "metadata": {
        "id": "BtXFagVK752k"
      },
      "source": [
        "## Table 2"
      ]
    },
    {
      "cell_type": "code",
      "execution_count": null,
      "metadata": {
        "id": "BmTZrMfL752l"
      },
      "outputs": [],
      "source": [
        "# TODO: Run this code cell that creates a line graph of the data\n",
        "\n",
        "# Assuming df is already created in the previous code cell\n",
        "plt.close('all')\n",
        "\n",
        "plt.figure(figsize=(6, 2))\n",
        "plt.plot(df['Timepoint'], df['Value'], '*-')\n",
        "plt.xticks(df['Timepoint'][::12], df['Label'][::12], rotation=0)\n",
        "plt.xlabel('Timepoint (Years)')\n",
        "plt.ylabel('Unemployment Rate (%)')\n",
        "plt.title('Unemployment Rate Year to Year')\n",
        "plt.grid(True)\n",
        "plt.xlim(20,40)\n",
        "plt.ylim(0,100)\n",
        "plt.show()"
      ]
    },
    {
      "cell_type": "markdown",
      "metadata": {
        "id": "QNWVBQnj752l"
      },
      "source": [
        "- TODO: What does this figure show?"
      ]
    },
    {
      "cell_type": "markdown",
      "metadata": {
        "id": "A4IDb_sa5XKa"
      },
      "source": [
        "## Table 3"
      ]
    },
    {
      "cell_type": "code",
      "execution_count": null,
      "metadata": {
        "id": "WaHzWAO73Z_s"
      },
      "outputs": [],
      "source": [
        "# TODO: Run this code cell that creates a line graph of the data\n",
        "\n",
        "# Assuming df is already created in the previous code cell\n",
        "plt.close('all')\n",
        "\n",
        "plt.figure(figsize=(3, 6))\n",
        "plt.plot(df['Timepoint'], df['Value'], '*-')\n",
        "plt.xticks(df['Timepoint'][::12], df['Label'][::12], rotation=0)\n",
        "plt.xlabel('Timepoint (Years)')\n",
        "plt.ylabel('Unemployment Rate (%)')\n",
        "plt.title('Unemployment Rate Year to Year')\n",
        "plt.grid(True)\n",
        "plt.xlim(20,40)\n",
        "plt.ylim(0,100)\n",
        "plt.show()"
      ]
    },
    {
      "cell_type": "markdown",
      "metadata": {
        "id": "5b9SZKpm73Xe"
      },
      "source": [
        "- TODO: What does this figure show?"
      ]
    },
    {
      "cell_type": "markdown",
      "metadata": {
        "id": "eTpLOw1-9MV8"
      },
      "source": [
        "## Table 4"
      ]
    },
    {
      "cell_type": "code",
      "execution_count": null,
      "metadata": {
        "id": "bkQk9VNX9NgR"
      },
      "outputs": [],
      "source": [
        "# TODO: Run this code cell that creates a line graph of the data\n",
        "\n",
        "# Assuming df is already created in the previous code cell\n",
        "plt.close('all')\n",
        "\n",
        "plt.figure(figsize=(3, 9))\n",
        "plt.plot(df['Timepoint'], df['Value'], '*-')\n",
        "plt.xticks(df['Timepoint'][::12], df['Label'][::12], rotation=0)\n",
        "plt.xlabel('Timepoint (Years)')\n",
        "plt.ylabel('Unemployment Rate (%)')\n",
        "plt.title('Unemployment Rate Year to Year')\n",
        "plt.grid(True)\n",
        "plt.xlim(20,40)\n",
        "plt.ylim(3,8)\n",
        "plt.show()"
      ]
    },
    {
      "cell_type": "markdown",
      "metadata": {
        "id": "6crKrQar9gul"
      },
      "source": [
        "- TODO: What does this figure show?"
      ]
    },
    {
      "cell_type": "markdown",
      "metadata": {
        "id": "elfMHNJA9xY1"
      },
      "source": [
        "## Discussion\n",
        "\n",
        "Share your observations\n",
        "\n",
        "- What did the plot at your table show?\n",
        "- What is the best representation of the data?"
      ]
    },
    {
      "cell_type": "markdown",
      "metadata": {
        "id": "xJK1xAs3B1P5"
      },
      "source": [
        "## Technical Exploration\n",
        "\n",
        "- What new python expressions do you see in the code?\n",
        "- Try changing them below to see what happens"
      ]
    },
    {
      "cell_type": "code",
      "execution_count": null,
      "metadata": {
        "id": "CwyPYTDvCu3A"
      },
      "outputs": [],
      "source": [
        "# TODO: Run this code cell that creates a line graph of the data\n",
        "# TODO: Change the xlim, ylim, and figsize to see what happens\n",
        "\n",
        "# TODO: try plt.xlim(800,900)\n",
        "# TODO: adjust the ylim so that the line does not go off the canvas\n",
        "# TODO: change the figsize to make a tall, skinny canvas\n",
        "\n",
        "# Assuming df is already created in the previous code cell\n",
        "plt.close('all')\n",
        "\n",
        "plt.figure(figsize=(10,6))\n",
        "plt.plot(df['Timepoint'], df['Value'], '*-')\n",
        "plt.xticks(df['Timepoint'][::12], df['Label'][::12], rotation=45)\n",
        "plt.xlabel('Timepoint (Years)')\n",
        "plt.ylabel('Unemployment Rate (%)')\n",
        "plt.title('Unemployment Rate Year to Year')\n",
        "plt.grid(True)\n",
        "plt.xlim(20,40)\n",
        "plt.ylim(3,8)\n",
        "plt.show()"
      ]
    },
    {
      "cell_type": "markdown",
      "metadata": {
        "id": "oW2pa1v6DrJ3"
      },
      "source": [
        "## Closing Thoughts\n",
        "\n",
        "- TODO: Describe how data distortion can imply things that were not in raw data\n",
        "\n",
        "- TODO: How could daily life be impacted by distorted data?"
      ]
    }
  ],
  "metadata": {
    "colab": {
      "provenance": [],
      "toc_visible": true
    },
    "kernelspec": {
      "display_name": "Python 3",
      "name": "python3"
    },
    "language_info": {
      "name": "python"
    }
  },
  "nbformat": 4,
  "nbformat_minor": 0
}
