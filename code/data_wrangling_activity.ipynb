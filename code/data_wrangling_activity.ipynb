{
  "cells": [
    {
      "cell_type": "raw",
      "metadata": {
        "id": "RtyQekfm65B4"
      },
      "source": [
        "---\n",
        "format:\n",
        "  html:\n",
        "    code-fold: true\n",
        "jupyter: python3\n",
        "---"
      ]
    },
    {
      "cell_type": "markdown",
      "metadata": {
        "id": "I1D7859rdjaT"
      },
      "source": [
        "[![Open In Colab](https://colab.research.google.com/assets/colab-badge.svg)](https://githubtocolab.com/allegheny-college-cmpsc-105-spring-2025/site/blob/main/code/data_wrangling_activity.ipynb)"
      ]
    },
    {
      "cell_type": "markdown",
      "source": [
        "# Data Wrangling Activity"
      ],
      "metadata": {
        "id": "i-zUoYgLttM-"
      }
    },
    {
      "cell_type": "markdown",
      "source": [
        "![](https://cdn.prod.website-files.com/6064b31ff49a2d31e0493af1/66f3caad055f0798273a7f4f_664deb56e0bafd02151740eb_T-Qh9BoT4c2Drnwsm3A6EU9lVejrOecvUm8zz7w3ax-XZUh9qJ2DNYv9m-ScnOOlzL6X9D3CUjJXakkys61p9-C15trG5jWTjdF8RJ5OMr3lgMHwfmCjU6cURlh51UC_ge8sqcFgxMXVEity0499RL0.png)"
      ],
      "metadata": {
        "id": "XXpNTkhiYXZ7"
      }
    },
    {
      "cell_type": "code",
      "source": [
        "# This teaching content has been adpated from: https://github.com/AlexTheAnalyst/PandasYouTubeSeries/tree/main"
      ],
      "metadata": {
        "id": "HCNrbPwy0VCc"
      },
      "execution_count": null,
      "outputs": []
    },
    {
      "cell_type": "code",
      "execution_count": 1,
      "metadata": {
        "id": "O0gbu0yedSC9"
      },
      "outputs": [],
      "source": [
        "import pandas as pd\n",
        "import numpy as np"
      ]
    },
    {
      "cell_type": "code",
      "source": [
        "# Get wrangling data raw url from course site repo (https://github.com/allegheny-college-cmpsc-105-spring-2025/site)\n",
        "\n",
        "df = pd.read_csv(\n",
        "    '',\n",
        "    sep=',',\n",
        "    skiprows=0\n",
        ")"
      ],
      "metadata": {
        "id": "VTv_PiIr1vJo"
      },
      "execution_count": 2,
      "outputs": []
    },
    {
      "cell_type": "code",
      "source": [
        "# Display the first few rows of the DataFrame\n",
        "df.head()\n",
        "\n",
        "# Display \"all\" (but middle rows may be skipped for large datasets)\n",
        "df"
      ],
      "metadata": {
        "collapsed": true,
        "id": "7VBK4HUJ3RxP"
      },
      "execution_count": null,
      "outputs": []
    },
    {
      "cell_type": "code",
      "source": [
        "# Check the number of rows and columns, i.e. shape\n",
        "\n",
        "df.shape"
      ],
      "metadata": {
        "id": "HB24RQyr3kti"
      },
      "execution_count": null,
      "outputs": []
    },
    {
      "cell_type": "code",
      "source": [
        "# Check the data types INSIDE the DataFrame\n",
        "# df.dtypes\n",
        "\n",
        "# Check the data type of an entire object\n",
        "# type(df['Column'])\n",
        "# type(df)"
      ],
      "metadata": {
        "id": "o8yLQyCyOuAF"
      },
      "execution_count": null,
      "outputs": []
    },
    {
      "cell_type": "code",
      "source": [
        "# Make sure we understand what is the 0th row\n",
        "\n",
        "# df.iloc[rows, columns]\n",
        "\n",
        "# Putting one row alone will return all columns by default as a SERIES!\n",
        "# df.iloc[row]\n",
        "\n",
        "# Putting one row in brackets will return all columns by default as a DataFrame!\n",
        "# df.iloc[[row]]\n",
        "\n",
        "# Using slicing to access multiple rows will create a DataFrame\n",
        "# df.iloc[rowstart:rowend]\n"
      ],
      "metadata": {
        "id": "i3gcTRTi3uA1"
      },
      "execution_count": null,
      "outputs": []
    },
    {
      "cell_type": "code",
      "source": [
        "# Check column names\n",
        "\n",
        "df.columns"
      ],
      "metadata": {
        "id": "0nJhH0xY18IW"
      },
      "execution_count": null,
      "outputs": []
    },
    {
      "cell_type": "code",
      "source": [
        "# Rename columns for brevity and consistency\n",
        "\n",
        "# Method 1, overwrite all\n",
        "# df.columns = ['X', 'Y', 'Z']\n",
        "\n",
        "# Method 2, rename individuals\n",
        "# df = df.rename(columns={'A': 'X', 'B': 'Y', 'C': 'Z'})\n",
        "\n",
        "df.rename(columns = {'Paying Customer':'Paying_Customer'})"
      ],
      "metadata": {
        "id": "OclIC3nu2mwZ"
      },
      "execution_count": null,
      "outputs": []
    },
    {
      "cell_type": "code",
      "source": [
        "# remove duplicate rows\n",
        "\n",
        "# # By Hand Incorrect\n",
        "# df.iloc[0:19,:] + df.iloc[20,:]\n",
        "\n",
        "# By Hand Correct\n",
        "# pd.concat([df.iloc[0:19,:], df.iloc[[20],]])\n",
        "\n",
        "# Using a preexisting function\n",
        "# df.drop_duplicates()"
      ],
      "metadata": {
        "id": "7yre54gb2Hip"
      },
      "execution_count": 51,
      "outputs": []
    },
    {
      "cell_type": "code",
      "source": [
        "df[\"Phone_Number\"].str.replace('[-/|a-zA-Z]+','', regex=True)"
      ],
      "metadata": {
        "id": "XNqphTd32LN0"
      },
      "execution_count": null,
      "outputs": []
    },
    {
      "cell_type": "code",
      "source": [
        "df2 = pd.DataFrame({\n",
        "    \"phone\": [\n",
        "        \"555-234-5678\", \"(555) 234-5678\", \"555.234.5678\", \"555/234/5678\",\n",
        "        15551234567, \"(1) 555-234-5678\", \"+1 (234) 567-8901 x. 1234\",\n",
        "        \"2345678901 extension 1234\", \"2345678\", \"800-299-JUNK\", \"1-866-4ZIPCAR\",\n",
        "        \"123 ABC COMPANY\", \"+66 91 889 8948\", \"hello\", np.nan, \"NULL\"\n",
        "    ]\n",
        "})\n",
        "df2"
      ],
      "metadata": {
        "id": "PaAmPNb3OUul"
      },
      "execution_count": null,
      "outputs": []
    },
    {
      "cell_type": "code",
      "source": [
        "# TODO: Try to update the regular expression in str.replace to clean df2['phone']\n",
        "# Recall, regular expression basics:\n",
        "\n",
        "# - `[]` Groups together characters to search for\n",
        "# - `[^...]` Negation (matches anything not inside the brackets).\n",
        "# - `a-z` Matches lowercase letters a to z.\n",
        "# - `+` Matches one or more occurrences of the unwanted characters."
      ],
      "metadata": {
        "id": "udU-zEmVRoV1"
      },
      "execution_count": null,
      "outputs": []
    },
    {
      "cell_type": "code",
      "source": [
        "# Use Split to break up long strings into new columns\n",
        "# df[['New_Column1', 'New_Column2', 'etc']] = df['Column'].str.split('your delimiter', expand=True)"
      ],
      "metadata": {
        "id": "gI-UxIpbRj-C"
      },
      "execution_count": null,
      "outputs": []
    },
    {
      "cell_type": "code",
      "source": [
        "# Get Rid of uneccessary information\n",
        "# df.drop(columns=['Bad_Col1','Bad_Col2', 'etc'])"
      ],
      "metadata": {
        "id": "JHDXnyAjSXAm"
      },
      "execution_count": null,
      "outputs": []
    },
    {
      "cell_type": "code",
      "source": [
        "# Standardizing Variables\n",
        "# df['Column'] = df['Column'].str.replace('Old_thing','New_thing')"
      ],
      "metadata": {
        "id": "ZWbBtSfQT0PP"
      },
      "execution_count": null,
      "outputs": []
    },
    {
      "cell_type": "code",
      "source": [
        "# Coding Variables\n",
        "\n",
        "# One Column\n",
        "# df['New_Column'] = df['Column'].replace({'Resp1': 1, 'Resp2': 0, 'Resp3': 2})\n",
        "\n",
        "# Multiple Columns for One Hot Coding\n",
        "# pd.get_dummies(df, columns=['Column'])"
      ],
      "metadata": {
        "id": "-U1RfQ1SUqNg"
      },
      "execution_count": null,
      "outputs": []
    },
    {
      "cell_type": "code",
      "source": [
        "# Filling NaN\n",
        "# df.fillna('') removes NaN\n",
        "# df.replace('', np.nan) adds NaN\n"
      ],
      "metadata": {
        "id": "EDJSXxXrV7S_"
      },
      "execution_count": null,
      "outputs": []
    },
    {
      "cell_type": "code",
      "source": [
        "# TODO: Filter out rows that say DO NOT CALL TRUE"
      ],
      "metadata": {
        "id": "Pf8QnjuaWhEH"
      },
      "execution_count": null,
      "outputs": []
    },
    {
      "cell_type": "code",
      "source": [
        "# TODO: Filter out rows where there is not a valid phone number"
      ],
      "metadata": {
        "id": "SHIM4T5jXDzt"
      },
      "execution_count": null,
      "outputs": []
    },
    {
      "cell_type": "markdown",
      "source": [
        "## Discord Post\n",
        "\n",
        "TODO: Don't forget to ask questions in Discord. One Discord post per week is required."
      ],
      "metadata": {
        "id": "UxfIj1yGz0WS"
      }
    },
    {
      "cell_type": "markdown",
      "source": [
        "## Submit this completed activity to your activities repository"
      ],
      "metadata": {
        "id": "A60p2b7F0L8r"
      }
    }
  ],
  "metadata": {
    "colab": {
      "provenance": []
    },
    "kernelspec": {
      "display_name": "Python 3",
      "name": "python3"
    },
    "language_info": {
      "name": "python"
    }
  },
  "nbformat": 4,
  "nbformat_minor": 0
}